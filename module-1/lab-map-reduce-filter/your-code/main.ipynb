{
 "cells": [
  {
   "cell_type": "markdown",
   "metadata": {},
   "source": [
    "# Before your start:\n",
    "- Read the README.md file\n",
    "- Comment as much as you can and use the resources in the README.md file\n",
    "- Happy learning!"
   ]
  },
  {
   "cell_type": "code",
   "execution_count": 25,
   "metadata": {},
   "outputs": [],
   "source": [
    "# import reduce from functools, numpy and pandas\n",
    "from functools import reduce\n",
    "import numpy as np\n",
    "import pandas as pd\n"
   ]
  },
  {
   "cell_type": "markdown",
   "metadata": {},
   "source": [
    "# Challenge 1 - Mapping\n",
    "\n",
    "#### We will use the map function to clean up a words in a book.\n",
    "\n",
    "In the following cell, we will read a text file containing the book The Prophet by Khalil Gibran."
   ]
  },
  {
   "cell_type": "code",
   "execution_count": 26,
   "metadata": {},
   "outputs": [],
   "source": [
    "# Run this code:\n",
    "\n",
    "location = '../58585-0.txt'\n",
    "with open(location, 'r', encoding=\"utf8\") as f:\n",
    "    prophet = f.read().split(' ')"
   ]
  },
  {
   "cell_type": "markdown",
   "metadata": {},
   "source": [
    "#### Let's remove the first 568 words since they contain information about the book but are not part of the book itself. \n",
    "\n",
    "Do this by removing from `prophet` elements 0 through 567 of the list (you can also do this by keeping elements 568 through the last element)."
   ]
  },
  {
   "cell_type": "code",
   "execution_count": 27,
   "metadata": {},
   "outputs": [
    {
     "name": "stdout",
     "output_type": "stream",
     "text": [
      "['\\ufeffThe', 'Project', 'Gutenberg', 'EBook', 'of', 'The', 'Prophet,', 'by', 'Kahlil', 'Gibran\\n\\nThis', 'eBook', 'is', 'for', 'the', 'use', 'of', 'anyone', 'anywhere', 'in', 'the', 'United', 'States', 'and\\nmost', 'other', 'parts', 'of', 'the', 'world', 'at', 'no', 'cost', 'and', 'with', 'almost', 'no', 'restrictions\\nwhatsoever.', '', 'You', 'may', 'copy', 'it,', 'give', 'it', 'away', 'or', 're-use', 'it', 'under', 'the', 'terms\\nof', 'the', 'Project', 'Gutenberg', 'License', 'included', 'with', 'this', 'eBook', 'or', 'online', 'at\\nwww.gutenberg.org.', '', 'If', 'you', 'are', 'not', 'located', 'in', 'the', 'United', 'States,', \"you'll\\nhave\", 'to', 'check', 'the', 'laws', 'of', 'the', 'country', 'where', 'you', 'are', 'located', 'before', 'using\\nthis', 'ebook.\\n\\n\\n\\nTitle:', 'The', 'Prophet\\n\\nAuthor:', 'Kahlil', 'Gibran\\n\\nRelease', 'Date:', 'January', '1,', '2019', '[EBook', '#58585]\\nLast', 'Updated:', 'January', '3,', '2018\\n\\n\\nLanguage:', 'English\\n\\nCharacter', 'set', 'encoding:', 'UTF-8\\n\\n***', 'START', 'OF', 'THIS', 'PROJECT', 'GUTENBERG', 'EBOOK', 'THE', 'PROPHET', '***\\n\\n\\n\\n\\nProduced', 'by', 'David', 'Widger', 'from', 'page', 'images', 'generously\\nprovided', 'by', 'the', 'Internet', \"Archive\\n\\n\\nTranscriber's\", 'Note:', 'Page', 'numbers,', 'ie:', '{20},', 'are', 'included', 'in', 'this\\nutf-8', 'text', 'file.', 'For', 'those', 'wishing', 'to', 'use', 'a', 'text', 'file', 'unencumbered\\nwith', 'page', 'numbers', 'open', 'or', 'download', 'the', 'Latin-1', 'file', '58585-8.txt.\\n\\n\\n\\n\\n\\n\\n\\nTHE', 'PROPHET\\n\\nBy', 'Kahlil', 'Gibran\\n\\nNew', 'York:', 'Alfred', 'A.', 'Knopf\\n\\n1923\\n\\n_The', 'Twelve', 'Illustrations', 'In', 'This', 'Volume\\nAre', 'Reproduced', 'From', 'Original', 'Drawings', 'By\\nThe', 'Author_\\n\\n\\n“His', 'power', 'came', 'from', 'some', 'great', 'reservoir\\nof', 'spiritual', 'life', 'else', 'it', 'could', 'not', 'have\\nbeen', 'so', 'universal', 'and', 'so', 'potent,', 'but', 'the\\nmajesty', 'and', 'beauty', 'of', 'the', 'language', 'with\\nwhich', 'he', 'clothed', 'it', 'were', 'all', 'his', 'own?”\\n\\n--Claude', 'Bragdon\\n\\n\\nTHE', 'BOOKS', 'OF', 'KAHLIL', 'GIBRAN\\n\\nThe', 'Madman.', '1918', 'Twenty', 'Drawings.', '1919\\nThe', 'Forerunner.', '1920', 'The', 'Prophet.', '1923\\nSand', 'and', 'Foam.', '1926', 'Jesus', 'the', 'Son', 'of\\nMan.', '1928', 'The', 'Forth', 'Gods.', '1931', 'The\\nWanderer.', '1932', 'The', 'Garden', 'of', 'the', 'Prophet\\n1933', 'Prose', 'Poems.', '1934', 'Nymphs', 'of', 'the\\nValley.', '1948\\n\\n\\n\\n\\nCONTENTS\\n\\n', '', '', '', '', '', '', '', '', '', 'The', 'Coming', 'of', 'the', 'Ship.......7\\n', '', '', '', '', '', '', '', '', '', 'On', 'Love.....................15\\n', '', '', '', '', '', '', '', '', '', 'On', 'Marriage.................19\\n', '', '', '', '', '', '', '', '', '', 'On', 'Children.................21\\n', '', '', '', '', '', '', '', '', '', 'On', 'Giving...................23\\n', '', '', '', '', '', '', '', '', '', 'On', 'Eating', 'and', 'Drinking......27\\n', '', '', '', '', '', '', '', '', '', 'On', 'Work.....................31\\n', '', '', '', '', '', '', '', '', '', 'On', 'Joy', 'and', 'Sorrow...........33\\n', '', '', '', '', '', '', '', '', '', 'On', 'Houses...................37\\n', '', '', '', '', '', '', '', '', '', 'On', 'Clothes..................41\\n', '', '', '', '', '', '', '', '', '', 'On', 'Buying', 'and', 'Selling.......43\\n', '', '', '', '', '', '', '', '', '', 'On', 'Crime', 'and', 'Punishment.....45\\n', '', '', '', '', '', '', '', '', '', 'On', 'Laws.....................51\\n', '', '', '', '', '', '', '', '', '', 'On', 'Freedom..................55\\n', '', '', '', '', '', '', '', '', '', 'On', 'Reason', 'and', 'Passion.......57\\n', '', '', '', '', '', '', '', '', '', 'On', 'Pain.....................60\\n', '', '', '', '', '', '', '', '', '', 'On', 'Self-Knowledge...........62\\n', '', '', '', '', '', '', '', '', '', 'On', 'Teaching.................64\\n', '', '', '', '', '', '', '', '', '', 'On', 'Friendship...............66\\n', '', '', '', '', '', '', '', '', '', 'On', 'Talking..................68\\n', '', '', '', '', '', '', '', '', '', 'On', 'Time.....................70\\n', '', '', '', '', '', '', '', '', '', 'On', 'Good', 'and', 'Evil............72\\n', '', '', '', '', '', '', '', '', '', 'On', 'Prayer...................76\\n', '', '', '', '', '', '', '', '', '', 'On', 'Pleasure.................79\\n', '', '', '', '', '', '', '', '', '', 'On', 'Beauty...................83\\n', '', '', '', '', '', '', '', '', '', 'On', 'Religion.................87\\n', '', '', '', '', '', '', '', '', '', 'On', 'Death....................90\\n', '', '', '', '', '', '', '', '', '', 'The']\n"
     ]
    }
   ],
   "source": [
    "# Your code here:\n",
    "\n",
    "prophet = prophet[0:567]\n",
    "print(prophet)"
   ]
  },
  {
   "cell_type": "markdown",
   "metadata": {},
   "source": [
    "If you look through the words, you will find that many words have a reference attached to them. For example, let's look at words 1 through 10."
   ]
  },
  {
   "cell_type": "code",
   "execution_count": 28,
   "metadata": {},
   "outputs": [
    {
     "name": "stdout",
     "output_type": "stream",
     "text": [
      "['Project', 'Gutenberg', 'EBook', 'of', 'The', 'Prophet,', 'by', 'Kahlil', 'Gibran\\n\\nThis']\n"
     ]
    }
   ],
   "source": [
    "# Your code here:\n",
    "print(prophet[1:10])\n"
   ]
  },
  {
   "cell_type": "markdown",
   "metadata": {},
   "source": [
    "#### The next step is to create a function that will remove references. \n",
    "\n",
    "We will do this by splitting the string on the `{` character and keeping only the part before this character. Write your function below."
   ]
  },
  {
   "cell_type": "code",
   "execution_count": 43,
   "metadata": {},
   "outputs": [],
   "source": [
    "def reference(x):\n",
    "    '''\n",
    "    Input: A string\n",
    "    Output: The string with references removed\n",
    "    \n",
    "    Example:\n",
    "    Input: 'the{7}'\n",
    "    Output: 'the'\n",
    "    '''\n",
    "    \n",
    "  \n",
    "    return x.split('{')[0]\n",
    "    \n",
    "    # Your code here:\n",
    "    \n",
    "    "
   ]
  },
  {
   "cell_type": "markdown",
   "metadata": {},
   "source": [
    "Now that we have our function, use the `map()` function to apply this function to our book, The Prophet. Return the resulting list to a new list called `prophet_reference`"
   ]
  },
  {
   "cell_type": "code",
   "execution_count": 44,
   "metadata": {},
   "outputs": [],
   "source": [
    "# Your code here:\n",
    "prophet_reference = list(map(reference, prophet))\n",
    "#print(prophet_reference)"
   ]
  },
  {
   "cell_type": "markdown",
   "metadata": {},
   "source": [
    "Another thing you may have noticed is that some words contain a line break. Let's write a function to split those words. Our function will return the string split on the character `\\n`. Write your function in the cell below."
   ]
  },
  {
   "cell_type": "code",
   "execution_count": 45,
   "metadata": {},
   "outputs": [],
   "source": [
    "def line_break(x):\n",
    "    '''\n",
    "    Input: A string\n",
    "    Output: A list of strings split on the line break (\\n) character\n",
    "        \n",
    "    Example:\n",
    "    Input: 'the\\nbeloved'\n",
    "    Output: ['the', 'beloved']\n",
    "    '''\n",
    "    \n",
    "    # Your code here:\n",
    "    return x.split('\\n')\n",
    "    "
   ]
  },
  {
   "cell_type": "markdown",
   "metadata": {},
   "source": [
    "Apply the `line_break` function to the `prophet_reference` list. Name the new list `prophet_line`."
   ]
  },
  {
   "cell_type": "code",
   "execution_count": 46,
   "metadata": {},
   "outputs": [
    {
     "name": "stdout",
     "output_type": "stream",
     "text": [
      "[['\\ufeffThe'], ['Project'], ['Gutenberg'], ['EBook'], ['of'], ['The'], ['Prophet,'], ['by'], ['Kahlil'], ['Gibran', '', 'This'], ['eBook'], ['is'], ['for'], ['the'], ['use'], ['of'], ['anyone'], ['anywhere'], ['in'], ['the'], ['United'], ['States'], ['and', 'most'], ['other'], ['parts'], ['of'], ['the'], ['world'], ['at'], ['no'], ['cost'], ['and'], ['with'], ['almost'], ['no'], ['restrictions', 'whatsoever.'], [''], ['You'], ['may'], ['copy'], ['it,'], ['give'], ['it'], ['away'], ['or'], ['re-use'], ['it'], ['under'], ['the'], ['terms', 'of'], ['the'], ['Project'], ['Gutenberg'], ['License'], ['included'], ['with'], ['this'], ['eBook'], ['or'], ['online'], ['at', 'www.gutenberg.org.'], [''], ['If'], ['you'], ['are'], ['not'], ['located'], ['in'], ['the'], ['United'], ['States,'], [\"you'll\", 'have'], ['to'], ['check'], ['the'], ['laws'], ['of'], ['the'], ['country'], ['where'], ['you'], ['are'], ['located'], ['before'], ['using', 'this'], ['ebook.', '', '', '', 'Title:'], ['The'], ['Prophet', '', 'Author:'], ['Kahlil'], ['Gibran', '', 'Release'], ['Date:'], ['January'], ['1,'], ['2019'], ['[EBook'], ['#58585]', 'Last'], ['Updated:'], ['January'], ['3,'], ['2018', '', '', 'Language:'], ['English', '', 'Character'], ['set'], ['encoding:'], ['UTF-8', '', '***'], ['START'], ['OF'], ['THIS'], ['PROJECT'], ['GUTENBERG'], ['EBOOK'], ['THE'], ['PROPHET'], ['***', '', '', '', '', 'Produced'], ['by'], ['David'], ['Widger'], ['from'], ['page'], ['images'], ['generously', 'provided'], ['by'], ['the'], ['Internet'], ['Archive', '', '', \"Transcriber's\"], ['Note:'], ['Page'], ['numbers,'], ['ie:'], [''], ['are'], ['included'], ['in'], ['this', 'utf-8'], ['text'], ['file.'], ['For'], ['those'], ['wishing'], ['to'], ['use'], ['a'], ['text'], ['file'], ['unencumbered', 'with'], ['page'], ['numbers'], ['open'], ['or'], ['download'], ['the'], ['Latin-1'], ['file'], ['58585-8.txt.', '', '', '', '', '', '', '', 'THE'], ['PROPHET', '', 'By'], ['Kahlil'], ['Gibran', '', 'New'], ['York:'], ['Alfred'], ['A.'], ['Knopf', '', '1923', '', '_The'], ['Twelve'], ['Illustrations'], ['In'], ['This'], ['Volume', 'Are'], ['Reproduced'], ['From'], ['Original'], ['Drawings'], ['By', 'The'], ['Author_', '', '', '“His'], ['power'], ['came'], ['from'], ['some'], ['great'], ['reservoir', 'of'], ['spiritual'], ['life'], ['else'], ['it'], ['could'], ['not'], ['have', 'been'], ['so'], ['universal'], ['and'], ['so'], ['potent,'], ['but'], ['the', 'majesty'], ['and'], ['beauty'], ['of'], ['the'], ['language'], ['with', 'which'], ['he'], ['clothed'], ['it'], ['were'], ['all'], ['his'], ['own?”', '', '--Claude'], ['Bragdon', '', '', 'THE'], ['BOOKS'], ['OF'], ['KAHLIL'], ['GIBRAN', '', 'The'], ['Madman.'], ['1918'], ['Twenty'], ['Drawings.'], ['1919', 'The'], ['Forerunner.'], ['1920'], ['The'], ['Prophet.'], ['1923', 'Sand'], ['and'], ['Foam.'], ['1926'], ['Jesus'], ['the'], ['Son'], ['of', 'Man.'], ['1928'], ['The'], ['Forth'], ['Gods.'], ['1931'], ['The', 'Wanderer.'], ['1932'], ['The'], ['Garden'], ['of'], ['the'], ['Prophet', '1933'], ['Prose'], ['Poems.'], ['1934'], ['Nymphs'], ['of'], ['the', 'Valley.'], ['1948', '', '', '', '', 'CONTENTS', '', ''], [''], [''], [''], [''], [''], [''], [''], [''], [''], ['The'], ['Coming'], ['of'], ['the'], ['Ship.......7', ''], [''], [''], [''], [''], [''], [''], [''], [''], [''], ['On'], ['Love.....................15', ''], [''], [''], [''], [''], [''], [''], [''], [''], [''], ['On'], ['Marriage.................19', ''], [''], [''], [''], [''], [''], [''], [''], [''], [''], ['On'], ['Children.................21', ''], [''], [''], [''], [''], [''], [''], [''], [''], [''], ['On'], ['Giving...................23', ''], [''], [''], [''], [''], [''], [''], [''], [''], [''], ['On'], ['Eating'], ['and'], ['Drinking......27', ''], [''], [''], [''], [''], [''], [''], [''], [''], [''], ['On'], ['Work.....................31', ''], [''], [''], [''], [''], [''], [''], [''], [''], [''], ['On'], ['Joy'], ['and'], ['Sorrow...........33', ''], [''], [''], [''], [''], [''], [''], [''], [''], [''], ['On'], ['Houses...................37', ''], [''], [''], [''], [''], [''], [''], [''], [''], [''], ['On'], ['Clothes..................41', ''], [''], [''], [''], [''], [''], [''], [''], [''], [''], ['On'], ['Buying'], ['and'], ['Selling.......43', ''], [''], [''], [''], [''], [''], [''], [''], [''], [''], ['On'], ['Crime'], ['and'], ['Punishment.....45', ''], [''], [''], [''], [''], [''], [''], [''], [''], [''], ['On'], ['Laws.....................51', ''], [''], [''], [''], [''], [''], [''], [''], [''], [''], ['On'], ['Freedom..................55', ''], [''], [''], [''], [''], [''], [''], [''], [''], [''], ['On'], ['Reason'], ['and'], ['Passion.......57', ''], [''], [''], [''], [''], [''], [''], [''], [''], [''], ['On'], ['Pain.....................60', ''], [''], [''], [''], [''], [''], [''], [''], [''], [''], ['On'], ['Self-Knowledge...........62', ''], [''], [''], [''], [''], [''], [''], [''], [''], [''], ['On'], ['Teaching.................64', ''], [''], [''], [''], [''], [''], [''], [''], [''], [''], ['On'], ['Friendship...............66', ''], [''], [''], [''], [''], [''], [''], [''], [''], [''], ['On'], ['Talking..................68', ''], [''], [''], [''], [''], [''], [''], [''], [''], [''], ['On'], ['Time.....................70', ''], [''], [''], [''], [''], [''], [''], [''], [''], [''], ['On'], ['Good'], ['and'], ['Evil............72', ''], [''], [''], [''], [''], [''], [''], [''], [''], [''], ['On'], ['Prayer...................76', ''], [''], [''], [''], [''], [''], [''], [''], [''], [''], ['On'], ['Pleasure.................79', ''], [''], [''], [''], [''], [''], [''], [''], [''], [''], ['On'], ['Beauty...................83', ''], [''], [''], [''], [''], [''], [''], [''], [''], [''], ['On'], ['Religion.................87', ''], [''], [''], [''], [''], [''], [''], [''], [''], [''], ['On'], ['Death....................90', ''], [''], [''], [''], [''], [''], [''], [''], [''], [''], ['The']]\n"
     ]
    }
   ],
   "source": [
    "# Your code here:\n",
    "\n",
    "prophet_line = list(map(line_break, prophet_reference))\n",
    "print(prophet_line)"
   ]
  },
  {
   "cell_type": "markdown",
   "metadata": {},
   "source": [
    "If you look at the elements of `prophet_line`, you will see that the function returned lists and not strings. Our list is now a list of lists. Flatten the list using list comprehension. Assign this new list to `prophet_flat`."
   ]
  },
  {
   "cell_type": "code",
   "execution_count": 48,
   "metadata": {},
   "outputs": [
    {
     "name": "stdout",
     "output_type": "stream",
     "text": [
      "['\\ufeffThe', 'Project', 'Gutenberg', 'EBook', 'of', 'The', 'Prophet,', 'by', 'Kahlil', 'Gibran', '', 'This', 'eBook', 'is', 'for', 'the', 'use', 'of', 'anyone', 'anywhere', 'in', 'the', 'United', 'States', 'and', 'most', 'other', 'parts', 'of', 'the', 'world', 'at', 'no', 'cost', 'and', 'with', 'almost', 'no', 'restrictions', 'whatsoever.', '', 'You', 'may', 'copy', 'it,', 'give', 'it', 'away', 'or', 're-use', 'it', 'under', 'the', 'terms', 'of', 'the', 'Project', 'Gutenberg', 'License', 'included', 'with', 'this', 'eBook', 'or', 'online', 'at', 'www.gutenberg.org.', '', 'If', 'you', 'are', 'not', 'located', 'in', 'the', 'United', 'States,', \"you'll\", 'have', 'to', 'check', 'the', 'laws', 'of', 'the', 'country', 'where', 'you', 'are', 'located', 'before', 'using', 'this', 'ebook.', '', '', '', 'Title:', 'The', 'Prophet', '', 'Author:', 'Kahlil', 'Gibran', '', 'Release', 'Date:', 'January', '1,', '2019', '[EBook', '#58585]', 'Last', 'Updated:', 'January', '3,', '2018', '', '', 'Language:', 'English', '', 'Character', 'set', 'encoding:', 'UTF-8', '', '***', 'START', 'OF', 'THIS', 'PROJECT', 'GUTENBERG', 'EBOOK', 'THE', 'PROPHET', '***', '', '', '', '', 'Produced', 'by', 'David', 'Widger', 'from', 'page', 'images', 'generously', 'provided', 'by', 'the', 'Internet', 'Archive', '', '', \"Transcriber's\", 'Note:', 'Page', 'numbers,', 'ie:', '', 'are', 'included', 'in', 'this', 'utf-8', 'text', 'file.', 'For', 'those', 'wishing', 'to', 'use', 'a', 'text', 'file', 'unencumbered', 'with', 'page', 'numbers', 'open', 'or', 'download', 'the', 'Latin-1', 'file', '58585-8.txt.', '', '', '', '', '', '', '', 'THE', 'PROPHET', '', 'By', 'Kahlil', 'Gibran', '', 'New', 'York:', 'Alfred', 'A.', 'Knopf', '', '1923', '', '_The', 'Twelve', 'Illustrations', 'In', 'This', 'Volume', 'Are', 'Reproduced', 'From', 'Original', 'Drawings', 'By', 'The', 'Author_', '', '', '“His', 'power', 'came', 'from', 'some', 'great', 'reservoir', 'of', 'spiritual', 'life', 'else', 'it', 'could', 'not', 'have', 'been', 'so', 'universal', 'and', 'so', 'potent,', 'but', 'the', 'majesty', 'and', 'beauty', 'of', 'the', 'language', 'with', 'which', 'he', 'clothed', 'it', 'were', 'all', 'his', 'own?”', '', '--Claude', 'Bragdon', '', '', 'THE', 'BOOKS', 'OF', 'KAHLIL', 'GIBRAN', '', 'The', 'Madman.', '1918', 'Twenty', 'Drawings.', '1919', 'The', 'Forerunner.', '1920', 'The', 'Prophet.', '1923', 'Sand', 'and', 'Foam.', '1926', 'Jesus', 'the', 'Son', 'of', 'Man.', '1928', 'The', 'Forth', 'Gods.', '1931', 'The', 'Wanderer.', '1932', 'The', 'Garden', 'of', 'the', 'Prophet', '1933', 'Prose', 'Poems.', '1934', 'Nymphs', 'of', 'the', 'Valley.', '1948', '', '', '', '', 'CONTENTS', '', '', '', '', '', '', '', '', '', '', '', 'The', 'Coming', 'of', 'the', 'Ship.......7', '', '', '', '', '', '', '', '', '', '', 'On', 'Love.....................15', '', '', '', '', '', '', '', '', '', '', 'On', 'Marriage.................19', '', '', '', '', '', '', '', '', '', '', 'On', 'Children.................21', '', '', '', '', '', '', '', '', '', '', 'On', 'Giving...................23', '', '', '', '', '', '', '', '', '', '', 'On', 'Eating', 'and', 'Drinking......27', '', '', '', '', '', '', '', '', '', '', 'On', 'Work.....................31', '', '', '', '', '', '', '', '', '', '', 'On', 'Joy', 'and', 'Sorrow...........33', '', '', '', '', '', '', '', '', '', '', 'On', 'Houses...................37', '', '', '', '', '', '', '', '', '', '', 'On', 'Clothes..................41', '', '', '', '', '', '', '', '', '', '', 'On', 'Buying', 'and', 'Selling.......43', '', '', '', '', '', '', '', '', '', '', 'On', 'Crime', 'and', 'Punishment.....45', '', '', '', '', '', '', '', '', '', '', 'On', 'Laws.....................51', '', '', '', '', '', '', '', '', '', '', 'On', 'Freedom..................55', '', '', '', '', '', '', '', '', '', '', 'On', 'Reason', 'and', 'Passion.......57', '', '', '', '', '', '', '', '', '', '', 'On', 'Pain.....................60', '', '', '', '', '', '', '', '', '', '', 'On', 'Self-Knowledge...........62', '', '', '', '', '', '', '', '', '', '', 'On', 'Teaching.................64', '', '', '', '', '', '', '', '', '', '', 'On', 'Friendship...............66', '', '', '', '', '', '', '', '', '', '', 'On', 'Talking..................68', '', '', '', '', '', '', '', '', '', '', 'On', 'Time.....................70', '', '', '', '', '', '', '', '', '', '', 'On', 'Good', 'and', 'Evil............72', '', '', '', '', '', '', '', '', '', '', 'On', 'Prayer...................76', '', '', '', '', '', '', '', '', '', '', 'On', 'Pleasure.................79', '', '', '', '', '', '', '', '', '', '', 'On', 'Beauty...................83', '', '', '', '', '', '', '', '', '', '', 'On', 'Religion.................87', '', '', '', '', '', '', '', '', '', '', 'On', 'Death....................90', '', '', '', '', '', '', '', '', '', '', 'The']\n"
     ]
    }
   ],
   "source": [
    "# Your code here:\n",
    "\n",
    "prophet_flat = [i for ia in prophet_line for i in ia ]\n",
    "print(prophet_flat)\n"
   ]
  },
  {
   "cell_type": "markdown",
   "metadata": {},
   "source": [
    "# Challenge 2 - Filtering\n",
    "\n",
    "When printing out a few words from the book, we see that there are words that we may not want to keep if we choose to analyze the corpus of text. Below is a list of words that we would like to get rid of. Create a function that will return false if it contains a word from the list of words specified and true otherwise."
   ]
  },
  {
   "cell_type": "code",
   "execution_count": 57,
   "metadata": {},
   "outputs": [],
   "source": [
    "def word_filter(x):\n",
    "    '''\n",
    "    Input: A string\n",
    "    Output: true if the word is not in the specified list and false if the word is in the list\n",
    "        \n",
    "    Example:\n",
    "    word list = ['and', 'the']\n",
    "    Input: 'and'\n",
    "    Output: False\n",
    "    \n",
    "    Input: 'John'\n",
    "    Output: True\n",
    "    '''\n",
    "    \n",
    "    word_list = ['and', 'the', 'a', 'an']\n",
    "    \n",
    "    # Your code here:\n",
    "    \n",
    "    if x in word_list:\n",
    "        \n",
    "        return False \n",
    "    else:\n",
    "        return True"
   ]
  },
  {
   "cell_type": "markdown",
   "metadata": {},
   "source": [
    "Use the `filter()` function to filter out the words speficied in the `word_filter()` function. Store the filtered list in the variable `prophet_filter`."
   ]
  },
  {
   "cell_type": "code",
   "execution_count": 60,
   "metadata": {},
   "outputs": [
    {
     "name": "stdout",
     "output_type": "stream",
     "text": [
      "['\\ufeffThe', 'Project', 'Gutenberg', 'EBook', 'of', 'The', 'Prophet,', 'by', 'Kahlil', 'Gibran']\n"
     ]
    }
   ],
   "source": [
    "prophet_filter = list(filter(word_filter, prophet_flat))\n",
    "print(prophet_filter[:10])"
   ]
  },
  {
   "cell_type": "markdown",
   "metadata": {},
   "source": [
    "# Bonus Challenge - Part 1\n",
    "\n",
    "Rewrite the `word_filter` function above to not be case sensitive."
   ]
  },
  {
   "cell_type": "code",
   "execution_count": 62,
   "metadata": {},
   "outputs": [
    {
     "name": "stdout",
     "output_type": "stream",
     "text": [
      "['\\ufeffThe', 'Project', 'Gutenberg', 'EBook', 'of', 'Prophet,', 'by', 'Kahlil', 'Gibran', '', 'This', 'eBook', 'is', 'for', 'use', 'of', 'anyone', 'anywhere', 'in', 'United', 'States', 'most', 'other', 'parts', 'of', 'world', 'at', 'no', 'cost', 'with', 'almost', 'no', 'restrictions', 'whatsoever.', '', 'You', 'may', 'copy', 'it,', 'give', 'it', 'away', 'or', 're-use', 'it', 'under', 'terms', 'of', 'Project', 'Gutenberg', 'License', 'included', 'with', 'this', 'eBook', 'or', 'online', 'at', 'www.gutenberg.org.', '', 'If', 'you', 'are', 'not', 'located', 'in', 'United', 'States,', \"you'll\", 'have', 'to', 'check', 'laws', 'of', 'country', 'where', 'you', 'are', 'located', 'before', 'using', 'this', 'ebook.', '', '', '', 'Title:', 'Prophet', '', 'Author:', 'Kahlil', 'Gibran', '', 'Release', 'Date:', 'January', '1,', '2019', '[EBook', '#58585]', 'Last', 'Updated:', 'January', '3,', '2018', '', '', 'Language:', 'English', '', 'Character', 'set', 'encoding:', 'UTF-8', '', '***', 'START', 'OF', 'THIS', 'PROJECT', 'GUTENBERG', 'EBOOK', 'PROPHET', '***', '', '', '', '', 'Produced', 'by', 'David', 'Widger', 'from', 'page', 'images', 'generously', 'provided', 'by', 'Internet', 'Archive', '', '', \"Transcriber's\", 'Note:', 'Page', 'numbers,', 'ie:', '', 'are', 'included', 'in', 'this', 'utf-8', 'text', 'file.', 'For', 'those', 'wishing', 'to', 'use', 'text', 'file', 'unencumbered', 'with', 'page', 'numbers', 'open', 'or', 'download', 'Latin-1', 'file', '58585-8.txt.', '', '', '', '', '', '', '', 'PROPHET', '', 'By', 'Kahlil', 'Gibran', '', 'New', 'York:', 'Alfred', 'A.', 'Knopf', '', '1923', '', '_The', 'Twelve', 'Illustrations', 'In', 'This', 'Volume', 'Are', 'Reproduced', 'From', 'Original', 'Drawings', 'By', 'Author_', '', '', '“His', 'power', 'came', 'from', 'some', 'great', 'reservoir', 'of', 'spiritual', 'life', 'else', 'it', 'could', 'not', 'have', 'been', 'so', 'universal', 'so', 'potent,', 'but', 'majesty', 'beauty', 'of', 'language', 'with', 'which', 'he', 'clothed', 'it', 'were', 'all', 'his', 'own?”', '', '--Claude', 'Bragdon', '', '', 'BOOKS', 'OF', 'KAHLIL', 'GIBRAN', '', 'Madman.', '1918', 'Twenty', 'Drawings.', '1919', 'Forerunner.', '1920', 'Prophet.', '1923', 'Sand', 'Foam.', '1926', 'Jesus', 'Son', 'of', 'Man.', '1928', 'Forth', 'Gods.', '1931', 'Wanderer.', '1932', 'Garden', 'of', 'Prophet', '1933', 'Prose', 'Poems.', '1934', 'Nymphs', 'of', 'Valley.', '1948', '', '', '', '', 'CONTENTS', '', '', '', '', '', '', '', '', '', '', '', 'Coming', 'of', 'Ship.......7', '', '', '', '', '', '', '', '', '', '', 'On', 'Love.....................15', '', '', '', '', '', '', '', '', '', '', 'On', 'Marriage.................19', '', '', '', '', '', '', '', '', '', '', 'On', 'Children.................21', '', '', '', '', '', '', '', '', '', '', 'On', 'Giving...................23', '', '', '', '', '', '', '', '', '', '', 'On', 'Eating', 'Drinking......27', '', '', '', '', '', '', '', '', '', '', 'On', 'Work.....................31', '', '', '', '', '', '', '', '', '', '', 'On', 'Joy', 'Sorrow...........33', '', '', '', '', '', '', '', '', '', '', 'On', 'Houses...................37', '', '', '', '', '', '', '', '', '', '', 'On', 'Clothes..................41', '', '', '', '', '', '', '', '', '', '', 'On', 'Buying', 'Selling.......43', '', '', '', '', '', '', '', '', '', '', 'On', 'Crime', 'Punishment.....45', '', '', '', '', '', '', '', '', '', '', 'On', 'Laws.....................51', '', '', '', '', '', '', '', '', '', '', 'On', 'Freedom..................55', '', '', '', '', '', '', '', '', '', '', 'On', 'Reason', 'Passion.......57', '', '', '', '', '', '', '', '', '', '', 'On', 'Pain.....................60', '', '', '', '', '', '', '', '', '', '', 'On', 'Self-Knowledge...........62', '', '', '', '', '', '', '', '', '', '', 'On', 'Teaching.................64', '', '', '', '', '', '', '', '', '', '', 'On', 'Friendship...............66', '', '', '', '', '', '', '', '', '', '', 'On', 'Talking..................68', '', '', '', '', '', '', '', '', '', '', 'On', 'Time.....................70', '', '', '', '', '', '', '', '', '', '', 'On', 'Good', 'Evil............72', '', '', '', '', '', '', '', '', '', '', 'On', 'Prayer...................76', '', '', '', '', '', '', '', '', '', '', 'On', 'Pleasure.................79', '', '', '', '', '', '', '', '', '', '', 'On', 'Beauty...................83', '', '', '', '', '', '', '', '', '', '', 'On', 'Religion.................87', '', '', '', '', '', '', '', '', '', '', 'On', 'Death....................90', '', '', '', '', '', '', '', '', '', '']\n"
     ]
    }
   ],
   "source": [
    "def word_filter_case(x):\n",
    "   \n",
    "    word_list = ['and', 'the', 'a', 'an']\n",
    "    \n",
    "    # Your code here:\n",
    "    \n",
    "    return x.lower() not in word_list\n",
    "\n",
    "\n",
    "prophet_filter_case = list(filter(word_filter_case, prophet_filter))\n",
    "\n",
    "print(prophet_filter_case)\n",
    "    "
   ]
  },
  {
   "cell_type": "markdown",
   "metadata": {},
   "source": [
    "# Challenge 3 - Reducing\n",
    "\n",
    "#### Now that we have significantly cleaned up our text corpus, let's use the `reduce()` function to put the words back together into one long string separated by spaces. \n",
    "\n",
    "We will start by writing a function that takes two strings and concatenates them together with a space between the two strings."
   ]
  },
  {
   "cell_type": "code",
   "execution_count": 66,
   "metadata": {},
   "outputs": [],
   "source": [
    "def concat_space(a, b):\n",
    "    '''\n",
    "    Input:Two strings\n",
    "    Output: A single string separated by a space\n",
    "        \n",
    "    Example:\n",
    "    Input: 'John', 'Smith'\n",
    "    Output: 'John Smith'\n",
    "    '''\n",
    "    \n",
    "    # Your code here:\n",
    "    return a + ' ' + b"
   ]
  },
  {
   "cell_type": "markdown",
   "metadata": {},
   "source": [
    "Use the function above to reduce the text corpus in the list `prophet_filter` into a single string. Assign this new string to the variable `prophet_string`."
   ]
  },
  {
   "cell_type": "code",
   "execution_count": 67,
   "metadata": {},
   "outputs": [
    {
     "name": "stdout",
     "output_type": "stream",
     "text": [
      "﻿The Project Gutenberg EBook of Prophet, by Kahlil Gibran  This eBook is for use of anyone anywhere in United States most other parts of world at no cost with almost no restrictions whatsoever.  You may copy it, give it away or re-use it under terms of Project Gutenberg License included with this eBook or online at www.gutenberg.org.  If you are not located in United States, you'll have to check laws of country where you are located before using this ebook.    Title: Prophet  Author: Kahlil Gibran  Release Date: January 1, 2019 [EBook #58585] Last Updated: January 3, 2018   Language: English  Character set encoding: UTF-8  *** START OF THIS PROJECT GUTENBERG EBOOK PROPHET ***     Produced by David Widger from page images generously provided by Internet Archive   Transcriber's Note: Page numbers, ie:  are included in this utf-8 text file. For those wishing to use text file unencumbered with page numbers open or download Latin-1 file 58585-8.txt.        PROPHET  By Kahlil Gibran  New York: Alfred A. Knopf  1923  _The Twelve Illustrations In This Volume Are Reproduced From Original Drawings By Author_   “His power came from some great reservoir of spiritual life else it could not have been so universal so potent, but majesty beauty of language with which he clothed it were all his own?”  --Claude Bragdon   BOOKS OF KAHLIL GIBRAN  Madman. 1918 Twenty Drawings. 1919 Forerunner. 1920 Prophet. 1923 Sand Foam. 1926 Jesus Son of Man. 1928 Forth Gods. 1931 Wanderer. 1932 Garden of Prophet 1933 Prose Poems. 1934 Nymphs of Valley. 1948     CONTENTS            Coming of Ship.......7           On Love.....................15           On Marriage.................19           On Children.................21           On Giving...................23           On Eating Drinking......27           On Work.....................31           On Joy Sorrow...........33           On Houses...................37           On Clothes..................41           On Buying Selling.......43           On Crime Punishment.....45           On Laws.....................51           On Freedom..................55           On Reason Passion.......57           On Pain.....................60           On Self-Knowledge...........62           On Teaching.................64           On Friendship...............66           On Talking..................68           On Time.....................70           On Good Evil............72           On Prayer...................76           On Pleasure.................79           On Beauty...................83           On Religion.................87           On Death....................90          \n"
     ]
    }
   ],
   "source": [
    "# Your code here:\n",
    "\n",
    "prophet_string = reduce(concat_space, prophet_filter_case)\n",
    "\n",
    "print(prophet_string)"
   ]
  },
  {
   "cell_type": "markdown",
   "metadata": {},
   "source": [
    "# Challenge 4 - Applying Functions to DataFrames\n",
    "\n",
    "#### Our next step is to use the apply function to a dataframe and transform all cells.\n",
    "\n",
    "To do this, we will load a dataset below and then write a function that will perform the transformation."
   ]
  },
  {
   "cell_type": "code",
   "execution_count": 69,
   "metadata": {},
   "outputs": [],
   "source": [
    "# Run this code:\n",
    "\n",
    "# The dataset below contains information about pollution from PM2.5 particles in Beijing \n",
    "\n",
    "url = \"https://archive.ics.uci.edu/ml/machine-learning-databases/00381/PRSA_data_2010.1.1-2014.12.31.csv\"\n",
    "pm25 = pd.read_csv(url)"
   ]
  },
  {
   "cell_type": "markdown",
   "metadata": {},
   "source": [
    "Let's look at the data using the `head()` function."
   ]
  },
  {
   "cell_type": "code",
   "execution_count": 70,
   "metadata": {},
   "outputs": [
    {
     "data": {
      "text/html": [
       "<div>\n",
       "<style scoped>\n",
       "    .dataframe tbody tr th:only-of-type {\n",
       "        vertical-align: middle;\n",
       "    }\n",
       "\n",
       "    .dataframe tbody tr th {\n",
       "        vertical-align: top;\n",
       "    }\n",
       "\n",
       "    .dataframe thead th {\n",
       "        text-align: right;\n",
       "    }\n",
       "</style>\n",
       "<table border=\"1\" class=\"dataframe\">\n",
       "  <thead>\n",
       "    <tr style=\"text-align: right;\">\n",
       "      <th></th>\n",
       "      <th>No</th>\n",
       "      <th>year</th>\n",
       "      <th>month</th>\n",
       "      <th>day</th>\n",
       "      <th>hour</th>\n",
       "      <th>pm2.5</th>\n",
       "      <th>DEWP</th>\n",
       "      <th>TEMP</th>\n",
       "      <th>PRES</th>\n",
       "      <th>cbwd</th>\n",
       "      <th>Iws</th>\n",
       "      <th>Is</th>\n",
       "      <th>Ir</th>\n",
       "    </tr>\n",
       "  </thead>\n",
       "  <tbody>\n",
       "    <tr>\n",
       "      <th>0</th>\n",
       "      <td>1</td>\n",
       "      <td>2010</td>\n",
       "      <td>1</td>\n",
       "      <td>1</td>\n",
       "      <td>0</td>\n",
       "      <td>NaN</td>\n",
       "      <td>-21</td>\n",
       "      <td>-11.0</td>\n",
       "      <td>1021.0</td>\n",
       "      <td>NW</td>\n",
       "      <td>1.79</td>\n",
       "      <td>0</td>\n",
       "      <td>0</td>\n",
       "    </tr>\n",
       "    <tr>\n",
       "      <th>1</th>\n",
       "      <td>2</td>\n",
       "      <td>2010</td>\n",
       "      <td>1</td>\n",
       "      <td>1</td>\n",
       "      <td>1</td>\n",
       "      <td>NaN</td>\n",
       "      <td>-21</td>\n",
       "      <td>-12.0</td>\n",
       "      <td>1020.0</td>\n",
       "      <td>NW</td>\n",
       "      <td>4.92</td>\n",
       "      <td>0</td>\n",
       "      <td>0</td>\n",
       "    </tr>\n",
       "    <tr>\n",
       "      <th>2</th>\n",
       "      <td>3</td>\n",
       "      <td>2010</td>\n",
       "      <td>1</td>\n",
       "      <td>1</td>\n",
       "      <td>2</td>\n",
       "      <td>NaN</td>\n",
       "      <td>-21</td>\n",
       "      <td>-11.0</td>\n",
       "      <td>1019.0</td>\n",
       "      <td>NW</td>\n",
       "      <td>6.71</td>\n",
       "      <td>0</td>\n",
       "      <td>0</td>\n",
       "    </tr>\n",
       "    <tr>\n",
       "      <th>3</th>\n",
       "      <td>4</td>\n",
       "      <td>2010</td>\n",
       "      <td>1</td>\n",
       "      <td>1</td>\n",
       "      <td>3</td>\n",
       "      <td>NaN</td>\n",
       "      <td>-21</td>\n",
       "      <td>-14.0</td>\n",
       "      <td>1019.0</td>\n",
       "      <td>NW</td>\n",
       "      <td>9.84</td>\n",
       "      <td>0</td>\n",
       "      <td>0</td>\n",
       "    </tr>\n",
       "    <tr>\n",
       "      <th>4</th>\n",
       "      <td>5</td>\n",
       "      <td>2010</td>\n",
       "      <td>1</td>\n",
       "      <td>1</td>\n",
       "      <td>4</td>\n",
       "      <td>NaN</td>\n",
       "      <td>-20</td>\n",
       "      <td>-12.0</td>\n",
       "      <td>1018.0</td>\n",
       "      <td>NW</td>\n",
       "      <td>12.97</td>\n",
       "      <td>0</td>\n",
       "      <td>0</td>\n",
       "    </tr>\n",
       "  </tbody>\n",
       "</table>\n",
       "</div>"
      ],
      "text/plain": [
       "   No  year  month  day  hour  pm2.5  DEWP  TEMP    PRES cbwd    Iws  Is  Ir\n",
       "0   1  2010      1    1     0    NaN   -21 -11.0  1021.0   NW   1.79   0   0\n",
       "1   2  2010      1    1     1    NaN   -21 -12.0  1020.0   NW   4.92   0   0\n",
       "2   3  2010      1    1     2    NaN   -21 -11.0  1019.0   NW   6.71   0   0\n",
       "3   4  2010      1    1     3    NaN   -21 -14.0  1019.0   NW   9.84   0   0\n",
       "4   5  2010      1    1     4    NaN   -20 -12.0  1018.0   NW  12.97   0   0"
      ]
     },
     "execution_count": 70,
     "metadata": {},
     "output_type": "execute_result"
    }
   ],
   "source": [
    "# Your code here:\n",
    "\n",
    "pm25.head()\n"
   ]
  },
  {
   "cell_type": "markdown",
   "metadata": {},
   "source": [
    "The next step is to create a function that divides a cell by 24 to produce an hourly figure. Write the function below."
   ]
  },
  {
   "cell_type": "code",
   "execution_count": 72,
   "metadata": {},
   "outputs": [],
   "source": [
    "def hourly(x):\n",
    "    '''\n",
    "    Input: A numerical value\n",
    "    Output: The value divided by 24\n",
    "        \n",
    "    Example:\n",
    "    Input: 48\n",
    "    Output: 2.0\n",
    "    '''\n",
    "    \n",
    "    # Your code here:\n",
    "    return x / 24"
   ]
  },
  {
   "cell_type": "markdown",
   "metadata": {},
   "source": [
    "Apply this function to the columns `Iws`, `Is`, and `Ir`. Store this new dataframe in the variable `pm25_hourly`."
   ]
  },
  {
   "cell_type": "code",
   "execution_count": 74,
   "metadata": {},
   "outputs": [
    {
     "data": {
      "text/html": [
       "<div>\n",
       "<style scoped>\n",
       "    .dataframe tbody tr th:only-of-type {\n",
       "        vertical-align: middle;\n",
       "    }\n",
       "\n",
       "    .dataframe tbody tr th {\n",
       "        vertical-align: top;\n",
       "    }\n",
       "\n",
       "    .dataframe thead th {\n",
       "        text-align: right;\n",
       "    }\n",
       "</style>\n",
       "<table border=\"1\" class=\"dataframe\">\n",
       "  <thead>\n",
       "    <tr style=\"text-align: right;\">\n",
       "      <th></th>\n",
       "      <th>No</th>\n",
       "      <th>year</th>\n",
       "      <th>month</th>\n",
       "      <th>day</th>\n",
       "      <th>hour</th>\n",
       "      <th>pm2.5</th>\n",
       "      <th>DEWP</th>\n",
       "      <th>TEMP</th>\n",
       "      <th>PRES</th>\n",
       "      <th>cbwd</th>\n",
       "      <th>Iws</th>\n",
       "      <th>Is</th>\n",
       "      <th>Ir</th>\n",
       "      <th>pm25_hourly</th>\n",
       "    </tr>\n",
       "  </thead>\n",
       "  <tbody>\n",
       "    <tr>\n",
       "      <th>0</th>\n",
       "      <td>1</td>\n",
       "      <td>2010</td>\n",
       "      <td>1</td>\n",
       "      <td>1</td>\n",
       "      <td>0</td>\n",
       "      <td>NaN</td>\n",
       "      <td>-21</td>\n",
       "      <td>-11.0</td>\n",
       "      <td>1021.0</td>\n",
       "      <td>NW</td>\n",
       "      <td>1.79</td>\n",
       "      <td>0</td>\n",
       "      <td>0</td>\n",
       "      <td>0.074583</td>\n",
       "    </tr>\n",
       "    <tr>\n",
       "      <th>1</th>\n",
       "      <td>2</td>\n",
       "      <td>2010</td>\n",
       "      <td>1</td>\n",
       "      <td>1</td>\n",
       "      <td>1</td>\n",
       "      <td>NaN</td>\n",
       "      <td>-21</td>\n",
       "      <td>-12.0</td>\n",
       "      <td>1020.0</td>\n",
       "      <td>NW</td>\n",
       "      <td>4.92</td>\n",
       "      <td>0</td>\n",
       "      <td>0</td>\n",
       "      <td>0.205000</td>\n",
       "    </tr>\n",
       "    <tr>\n",
       "      <th>2</th>\n",
       "      <td>3</td>\n",
       "      <td>2010</td>\n",
       "      <td>1</td>\n",
       "      <td>1</td>\n",
       "      <td>2</td>\n",
       "      <td>NaN</td>\n",
       "      <td>-21</td>\n",
       "      <td>-11.0</td>\n",
       "      <td>1019.0</td>\n",
       "      <td>NW</td>\n",
       "      <td>6.71</td>\n",
       "      <td>0</td>\n",
       "      <td>0</td>\n",
       "      <td>0.279583</td>\n",
       "    </tr>\n",
       "    <tr>\n",
       "      <th>3</th>\n",
       "      <td>4</td>\n",
       "      <td>2010</td>\n",
       "      <td>1</td>\n",
       "      <td>1</td>\n",
       "      <td>3</td>\n",
       "      <td>NaN</td>\n",
       "      <td>-21</td>\n",
       "      <td>-14.0</td>\n",
       "      <td>1019.0</td>\n",
       "      <td>NW</td>\n",
       "      <td>9.84</td>\n",
       "      <td>0</td>\n",
       "      <td>0</td>\n",
       "      <td>0.410000</td>\n",
       "    </tr>\n",
       "    <tr>\n",
       "      <th>4</th>\n",
       "      <td>5</td>\n",
       "      <td>2010</td>\n",
       "      <td>1</td>\n",
       "      <td>1</td>\n",
       "      <td>4</td>\n",
       "      <td>NaN</td>\n",
       "      <td>-20</td>\n",
       "      <td>-12.0</td>\n",
       "      <td>1018.0</td>\n",
       "      <td>NW</td>\n",
       "      <td>12.97</td>\n",
       "      <td>0</td>\n",
       "      <td>0</td>\n",
       "      <td>0.540417</td>\n",
       "    </tr>\n",
       "  </tbody>\n",
       "</table>\n",
       "</div>"
      ],
      "text/plain": [
       "   No  year  month  day  hour  pm2.5  DEWP  TEMP    PRES cbwd    Iws  Is  Ir  \\\n",
       "0   1  2010      1    1     0    NaN   -21 -11.0  1021.0   NW   1.79   0   0   \n",
       "1   2  2010      1    1     1    NaN   -21 -12.0  1020.0   NW   4.92   0   0   \n",
       "2   3  2010      1    1     2    NaN   -21 -11.0  1019.0   NW   6.71   0   0   \n",
       "3   4  2010      1    1     3    NaN   -21 -14.0  1019.0   NW   9.84   0   0   \n",
       "4   5  2010      1    1     4    NaN   -20 -12.0  1018.0   NW  12.97   0   0   \n",
       "\n",
       "   pm25_hourly  \n",
       "0     0.074583  \n",
       "1     0.205000  \n",
       "2     0.279583  \n",
       "3     0.410000  \n",
       "4     0.540417  "
      ]
     },
     "execution_count": 74,
     "metadata": {},
     "output_type": "execute_result"
    }
   ],
   "source": [
    "# Your code here:\n",
    "\n",
    "pm25['pm25_hourly'] = pm25['Iws'].apply(hourly) + pm25['Is'].apply(hourly) + pm25['Ir'].apply(hourly)\n",
    "\n",
    "pm25.head()"
   ]
  },
  {
   "cell_type": "markdown",
   "metadata": {},
   "source": [
    "#### Our last challenge will be to create an aggregate function and apply it to a select group of columns in our dataframe.\n",
    "\n",
    "Write a function that returns the standard deviation of a column divided by the length of a column minus 1. Since we are using pandas, do not use the `len()` function. One alternative is to use `count()`. Also, use the numpy version of standard deviation."
   ]
  },
  {
   "cell_type": "code",
   "execution_count": 81,
   "metadata": {},
   "outputs": [],
   "source": [
    "def sample_sd(x):\n",
    "    '''\n",
    "    Input: A Pandas series of values\n",
    "    Output: the standard deviation divided by the number of elements in the series\n",
    "        \n",
    "    Example:\n",
    "    Input: pd.Series([1,2,3,4])\n",
    "    Output: 0.3726779962\n",
    "    '''\n",
    "    \n",
    "    # Your code here:\n",
    "    return np.std(x) / x.count() - 1\n",
    "    \n",
    "    "
   ]
  },
  {
   "cell_type": "code",
   "execution_count": 82,
   "metadata": {},
   "outputs": [
    {
     "data": {
      "text/plain": [
       "-0.9999677385390252"
      ]
     },
     "execution_count": 82,
     "metadata": {},
     "output_type": "execute_result"
    }
   ],
   "source": [
    "sample_sd(pm25['year'])"
   ]
  },
  {
   "cell_type": "code",
   "execution_count": null,
   "metadata": {},
   "outputs": [],
   "source": []
  }
 ],
 "metadata": {
  "kernelspec": {
   "display_name": "Python 3",
   "language": "python",
   "name": "python3"
  },
  "language_info": {
   "codemirror_mode": {
    "name": "ipython",
    "version": 3
   },
   "file_extension": ".py",
   "mimetype": "text/x-python",
   "name": "python",
   "nbconvert_exporter": "python",
   "pygments_lexer": "ipython3",
   "version": "3.8.3"
  }
 },
 "nbformat": 4,
 "nbformat_minor": 2
}
