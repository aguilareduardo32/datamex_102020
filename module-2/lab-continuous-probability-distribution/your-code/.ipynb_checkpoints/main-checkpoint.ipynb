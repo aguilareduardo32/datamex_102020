{
 "cells": [
  {
   "cell_type": "markdown",
   "metadata": {},
   "source": [
    "# Before your start:\n",
    "\n",
    "    Read the README.md file\n",
    "    Comment as much as you can and use the resources (README.md file)\n",
    "    Happy learning!"
   ]
  },
  {
   "cell_type": "markdown",
   "metadata": {},
   "source": [
    "In this exercise, we  will generate random numbers from the continuous disributions we learned in the lesson. There are two ways to generate random numbers:\n",
    "\n",
    "1. Using the numpy library \n",
    "1. using the Scipy library \n",
    "\n",
    "Use either or both of the lbraries in this exercise."
   ]
  },
  {
   "cell_type": "markdown",
   "metadata": {},
   "source": [
    "## Uniform Distribution\n",
    "\n",
    "To generate uniform random numbers between any two given values using scipy, we can either use the following code or the code that we have\n",
    "discussed in class:"
   ]
  },
  {
   "cell_type": "code",
   "execution_count": 1,
   "metadata": {},
   "outputs": [
    {
     "name": "stdout",
     "output_type": "stream",
     "text": [
      "[2.35522349 2.88328879 2.72615215 2.83927602 2.7450588  2.87784596\n",
      " 2.46507199 2.97186022 2.94837988 2.57505947]\n"
     ]
    }
   ],
   "source": [
    "from scipy.stats import uniform\n",
    "x = uniform.rvs(size=10)\n",
    "a = 2\n",
    "b = 3\n",
    "randoms  = a + (b-a)*x\n",
    "print(randoms)"
   ]
  },
  {
   "cell_type": "markdown",
   "metadata": {},
   "source": [
    "**Your task:**\n",
    "\n",
    "1. Based on the code above, write a function that generates uniformly distributed random numbers. There are several requirements for your function:\n",
    "    * It should accept 3 parameters: \n",
    "        * `bottom` - the lower boundary of the generated numbers\n",
    "        * `ceiling` - the upper boundary of the generated numbers\n",
    "        * `count` - how many numbers to generate\n",
    "    * It should return an array of uniformly distributed random numbers\n",
    "\n",
    "1. Call your function with 2 sets of params below:\n",
    "    * bottom=10, ceiling=15, count=100\n",
    "    * bottom=10, ceiling=60, count=1,000\n",
    "\n",
    "1. Plot the uniform distributions generated above using histograms, where x axis is the value and y axis is the count. Let the histogram's number of bins be 10.\n",
    "\n",
    "Your output should look like below:\n",
    "\n",
    "![uniform distribution](ud.png)"
   ]
  },
  {
   "cell_type": "code",
   "execution_count": 19,
   "metadata": {},
   "outputs": [
    {
     "data": {
      "text/plain": [
       "(array([105., 109., 107.,  98.,  78., 100., 107., 113., 105.,  78.]),\n",
       " array([10.01993661, 15.01664138, 20.01334615, 25.01005092, 30.00675569,\n",
       "        35.00346046, 40.00016523, 44.99687   , 49.99357477, 54.99027954,\n",
       "        59.98698431]),\n",
       " <a list of 10 Patch objects>)"
      ]
     },
     "execution_count": 19,
     "metadata": {},
     "output_type": "execute_result"
    },
    {
     "data": {
      "image/png": "[encoded data removed]",
      "text/plain": [
       "<Figure size 432x288 with 2 Axes>"
      ]
     },
     "metadata": {
      "needs_background": "light"
     },
     "output_type": "display_data"
    }
   ],
   "source": [
    "# your code here\n",
    "from scipy.stats import uniform \n",
    "import matplotlib.pyplot as plt\n",
    "def fun(bottom, ceiling, count):\n",
    "    x = uniform.rvs(size = count)\n",
    "    a = bottom\n",
    "    b = ceiling\n",
    "    \n",
    "    randoms = a + (b-a)*x\n",
    "    return randoms\n",
    "\n",
    "\n",
    "x = fun(10, 15, 100)\n",
    "x1 = fun(bottom=10, ceiling=60, count=1000)\n",
    "\n",
    "\n",
    "fig, (ax1, ax2) = plt.subplots(1, 2, sharey = True)\n",
    "ax1.hist(x, bins = 10)\n",
    "ax2.hist(x1, bins = 10)\n",
    "\n",
    "\n",
    "\n"
   ]
  },
  {
   "cell_type": "markdown",
   "metadata": {},
   "source": [
    "How are the two distributions different?"
   ]
  },
  {
   "cell_type": "code",
   "execution_count": null,
   "metadata": {},
   "outputs": [],
   "source": [
    "# your answer below\n",
    "\n",
    "\n",
    "# bough has a min of 10 x1 has a max of 15, x2 of 60 and x1 has a count of 100, x2 1000\n",
    "\n",
    "#x2 has higher frequency becouse its 1000"
   ]
  },
  {
   "cell_type": "markdown",
   "metadata": {},
   "source": [
    "## Normal Distribution\n",
    "\n",
    "1. In the same way in the Uniform Distribution challenge, write a function that generates normally distributed random numbers.\n",
    "1. Generate 1,000 normally distributed numbers with the average of 10 and standard deviation of 1\n",
    "1. Generate 1,000 normally distributed numbers with the average of 10 and standard deviation of 50\n",
    "2. Plot the distributions of the data generated.\n",
    "\n",
    "Expected output:\n",
    "\n",
    "![normal distribution](nd.png)"
   ]
  },
  {
   "cell_type": "code",
   "execution_count": 31,
   "metadata": {},
   "outputs": [
    {
     "data": {
      "text/plain": [
       "(array([ 2.,  0.,  0.,  1.,  0.,  4.,  3.,  4.,  5.,  7.,  8.,  7., 15.,\n",
       "        15., 18., 24., 48., 43., 57., 59., 55., 67., 46., 71., 61., 53.,\n",
       "        50., 48., 47., 34., 45., 33., 21., 16., 10.,  6.,  3.,  8.,  5.,\n",
       "         1.]),\n",
       " array([-177.82337415, -169.71096121, -161.59854827, -153.48613532,\n",
       "        -145.37372238, -137.26130944, -129.14889649, -121.03648355,\n",
       "        -112.92407061, -104.81165767,  -96.69924472,  -88.58683178,\n",
       "         -80.47441884,  -72.36200589,  -64.24959295,  -56.13718001,\n",
       "         -48.02476706,  -39.91235412,  -31.79994118,  -23.68752823,\n",
       "         -15.57511529,   -7.46270235,    0.64971059,    8.76212354,\n",
       "          16.87453648,   24.98694942,   33.09936237,   41.21177531,\n",
       "          49.32418825,   57.4366012 ,   65.54901414,   73.66142708,\n",
       "          81.77384002,   89.88625297,   97.99866591,  106.11107885,\n",
       "         114.2234918 ,  122.33590474,  130.44831768,  138.56073063,\n",
       "         146.67314357]),\n",
       " <a list of 40 Patch objects>)"
      ]
     },
     "execution_count": 31,
     "metadata": {},
     "output_type": "execute_result"
    },
    {
     "data": {
      "image/png": "[encoded data removed]",
      "text/plain": [
       "<Figure size 432x288 with 2 Axes>"
      ]
     },
     "metadata": {
      "needs_background": "light"
     },
     "output_type": "display_data"
    }
   ],
   "source": [
    "# your code here\n",
    "import numpy as np\n",
    "\n",
    "def norm_dist(mean, std, size):\n",
    "    return np.random.normal(mean, std, size)\n",
    "\n",
    "fig, (ax1, ax2)= plt.subplots(1,2, sharey = True)\n",
    "ax1.hist(norm_dist(10,1,1000), bins = 40)\n",
    "ax2.hist(norm_dist(10, 50, 1000), bins= 40)"
   ]
  },
  {
   "cell_type": "markdown",
   "metadata": {},
   "source": [
    "How are the two distributions different?"
   ]
  },
  {
   "cell_type": "code",
   "execution_count": null,
   "metadata": {},
   "outputs": [],
   "source": [
    "# your answer below\n",
    "\n",
    "#x2 has a bigger std so i guess that makes x longer "
   ]
  },
  {
   "cell_type": "markdown",
   "metadata": {},
   "source": [
    "## Normal Distribution of Real Data\n",
    "\n",
    "In this challenge we are going to take a look the real data. We will use vehicles.csv file for this exercise"
   ]
  },
  {
   "cell_type": "markdown",
   "metadata": {},
   "source": [
    "First import vehicles.csv.\n",
    "Then plot the histograms for the following variables:\n",
    "\n",
    "1. Fuel Barrels/Year"
   ]
  },
  {
   "cell_type": "code",
   "execution_count": 35,
   "metadata": {},
   "outputs": [
    {
     "data": {
      "text/plain": [
       "<matplotlib.axes._subplots.AxesSubplot at 0x11acde130>"
      ]
     },
     "execution_count": 35,
     "metadata": {},
     "output_type": "execute_result"
    },
    {
     "data": {
      "image/png": "[encoded data removed]",
      "text/plain": [
       "<Figure size 432x288 with 1 Axes>"
      ]
     },
     "metadata": {
      "needs_background": "light"
     },
     "output_type": "display_data"
    }
   ],
   "source": [
    "# your code here\n",
    "\n",
    "\n",
    "import pandas as pd\n",
    "\n",
    "df = pd.read_csv('vehicles.csv')\n",
    "df.head()\n",
    "\n",
    "df['Fuel Barrels/Year'].hist(bins=30)"
   ]
  },
  {
   "cell_type": "markdown",
   "metadata": {},
   "source": [
    "2. CO2 Emission Grams/Mile "
   ]
  },
  {
   "cell_type": "code",
   "execution_count": 37,
   "metadata": {},
   "outputs": [
    {
     "data": {
      "text/plain": [
       "<matplotlib.axes._subplots.AxesSubplot at 0x11b1ee100>"
      ]
     },
     "execution_count": 37,
     "metadata": {},
     "output_type": "execute_result"
    },
    {
     "data": {
      "image/png": "[encoded data removed]",
      "text/plain": [
       "<Figure size 432x288 with 1 Axes>"
      ]
     },
     "metadata": {
      "needs_background": "light"
     },
     "output_type": "display_data"
    }
   ],
   "source": [
    "# your code here\n",
    "\n",
    "df['CO2 Emission Grams/Mile'].hist(bins=30)\n"
   ]
  },
  {
   "cell_type": "markdown",
   "metadata": {},
   "source": [
    "3. Combined MPG"
   ]
  },
  {
   "cell_type": "code",
   "execution_count": 38,
   "metadata": {},
   "outputs": [
    {
     "data": {
      "text/plain": [
       "<matplotlib.axes._subplots.AxesSubplot at 0x11a6f9790>"
      ]
     },
     "execution_count": 38,
     "metadata": {},
     "output_type": "execute_result"
    },
    {
     "data": {
      "image/png": "[encoded data removed]",
      "text/plain": [
       "<Figure size 432x288 with 1 Axes>"
      ]
     },
     "metadata": {
      "needs_background": "light"
     },
     "output_type": "display_data"
    }
   ],
   "source": [
    "# your code here\n",
    "df['Combined MPG'].hist(bins=30)"
   ]
  },
  {
   "cell_type": "markdown",
   "metadata": {},
   "source": [
    "Which one(s) of the variables are nearly normally distributed? How do you know?"
   ]
  },
  {
   "cell_type": "code",
   "execution_count": 55,
   "metadata": {},
   "outputs": [
    {
     "name": "stdout",
     "output_type": "stream",
     "text": [
      "4.467282686296995\n",
      "17.609055502328875\n",
      "119.06077323591474\n",
      "475.31633925715045\n",
      "5.112408944666006\n",
      "19.92932242990654\n"
     ]
    }
   ],
   "source": [
    "# your answer here\n",
    "import scipy.stats\n",
    "\n",
    "\n",
    "print(df['Fuel Barrels/Year'].std())\n",
    "print(df['Fuel Barrels/Year'].mean())\n",
    "print(df['CO2 Emission Grams/Mile'].std())\n",
    "print(df['CO2 Emission Grams/Mile'].mean())\n",
    "print(df['Combined MPG'].std())\n",
    "print(df['Combined MPG'].mean())\n"
   ]
  },
  {
   "cell_type": "markdown",
   "metadata": {},
   "source": [
    "## Exponential Distribution"
   ]
  },
  {
   "cell_type": "markdown",
   "metadata": {},
   "source": [
    "1. Using `numpy.random.exponential`, create a function that returns a list of numbers exponentially distributed with the mean of 10. \n",
    "\n",
    "1. Use the function to generate two number sequences with the size of 1 and 100.\n",
    "\n",
    "1. Plot the distributions as histograms with the nubmer of bins as 100.\n",
    "\n",
    "Your output should look like below:\n",
    "\n",
    "![exponential distribution](ed.png)"
   ]
  },
  {
   "cell_type": "code",
   "execution_count": 56,
   "metadata": {},
   "outputs": [
    {
     "data": {
      "text/plain": [
       "(array([83., 86., 57., 65., 50., 45., 41., 39., 37., 43., 40., 27., 20.,\n",
       "        29., 28., 13., 24., 25., 14., 18., 19., 25., 12., 14.,  7.,  9.,\n",
       "        10.,  7.,  7., 13., 10.,  8.,  3.,  5.,  5.,  6.,  4.,  3.,  3.,\n",
       "         5.,  4.,  2.,  3.,  3.,  3.,  5.,  2.,  1.,  1.,  0.,  1.,  2.,\n",
       "         2.,  2.,  1.,  1.,  0.,  0.,  1.,  0.,  0.,  0.,  0.,  0.,  0.,\n",
       "         1.,  1.,  0.,  0.,  0.,  0.,  0.,  0.,  1.,  0.,  0.,  0.,  0.,\n",
       "         0.,  0.,  1.,  0.,  0.,  0.,  0.,  0.,  0.,  0.,  0.,  0.,  0.,\n",
       "         0.,  0.,  1.,  0.,  0.,  0.,  0.,  0.,  2.]),\n",
       " array([1.06615638e-01, 8.11285481e+00, 1.61190940e+01, 2.41253332e+01,\n",
       "        3.21315723e+01, 4.01378115e+01, 4.81440507e+01, 5.61502899e+01,\n",
       "        6.41565290e+01, 7.21627682e+01, 8.01690074e+01, 8.81752466e+01,\n",
       "        9.61814857e+01, 1.04187725e+02, 1.12193964e+02, 1.20200203e+02,\n",
       "        1.28206442e+02, 1.36212682e+02, 1.44218921e+02, 1.52225160e+02,\n",
       "        1.60231399e+02, 1.68237638e+02, 1.76243877e+02, 1.84250117e+02,\n",
       "        1.92256356e+02, 2.00262595e+02, 2.08268834e+02, 2.16275073e+02,\n",
       "        2.24281313e+02, 2.32287552e+02, 2.40293791e+02, 2.48300030e+02,\n",
       "        2.56306269e+02, 2.64312508e+02, 2.72318748e+02, 2.80324987e+02,\n",
       "        2.88331226e+02, 2.96337465e+02, 3.04343704e+02, 3.12349943e+02,\n",
       "        3.20356183e+02, 3.28362422e+02, 3.36368661e+02, 3.44374900e+02,\n",
       "        3.52381139e+02, 3.60387379e+02, 3.68393618e+02, 3.76399857e+02,\n",
       "        3.84406096e+02, 3.92412335e+02, 4.00418574e+02, 4.08424814e+02,\n",
       "        4.16431053e+02, 4.24437292e+02, 4.32443531e+02, 4.40449770e+02,\n",
       "        4.48456009e+02, 4.56462249e+02, 4.64468488e+02, 4.72474727e+02,\n",
       "        4.80480966e+02, 4.88487205e+02, 4.96493444e+02, 5.04499684e+02,\n",
       "        5.12505923e+02, 5.20512162e+02, 5.28518401e+02, 5.36524640e+02,\n",
       "        5.44530880e+02, 5.52537119e+02, 5.60543358e+02, 5.68549597e+02,\n",
       "        5.76555836e+02, 5.84562075e+02, 5.92568315e+02, 6.00574554e+02,\n",
       "        6.08580793e+02, 6.16587032e+02, 6.24593271e+02, 6.32599510e+02,\n",
       "        6.40605750e+02, 6.48611989e+02, 6.56618228e+02, 6.64624467e+02,\n",
       "        6.72630706e+02, 6.80636946e+02, 6.88643185e+02, 6.96649424e+02,\n",
       "        7.04655663e+02, 7.12661902e+02, 7.20668141e+02, 7.28674381e+02,\n",
       "        7.36680620e+02, 7.44686859e+02, 7.52693098e+02, 7.60699337e+02,\n",
       "        7.68705576e+02, 7.76711816e+02, 7.84718055e+02, 7.92724294e+02,\n",
       "        8.00730533e+02]),\n",
       " <a list of 100 Patch objects>)"
      ]
     },
     "execution_count": 56,
     "metadata": {},
     "output_type": "execute_result"
    },
    {
     "data": {
      "image/png": "[encoded data removed]",
      "text/plain": [
       "<Figure size 432x288 with 2 Axes>"
      ]
     },
     "metadata": {
      "needs_background": "light"
     },
     "output_type": "display_data"
    }
   ],
   "source": [
    "# your code here\n",
    "\n",
    "from numpy.random import exponential \n",
    "\n",
    "def numb_exp(mean, x):\n",
    "    return exponential(scale = mean, size = x)\n",
    "\n",
    "\n",
    "fig, (ax1, ax2) = plt.subplots(1,2, sharey = True)\n",
    "\n",
    "ax1.hist(numb_exp(1, 1000), bins = 100)\n",
    "ax2.hist(numb_exp(100, 1000), bins = 100)"
   ]
  },
  {
   "cell_type": "markdown",
   "metadata": {},
   "source": [
    "How are the two distributions different?"
   ]
  },
  {
   "cell_type": "code",
   "execution_count": null,
   "metadata": {},
   "outputs": [],
   "source": [
    "# your answer here\\\n",
    "\n",
    "\n",
    "# in x1 with a mean of 1 the xaxis is smaller and in x2 with a mean of 100, the x axis is bigger "
   ]
  },
  {
   "cell_type": "markdown",
   "metadata": {},
   "source": [
    "## Exponential Distribution of Real Data\n",
    "\n",
    "Suppose that the amount of time one spends in a bank is exponentially distributed with mean as 10 minutes (i.e. λ = 1/10). What is the probability that a customer will spend less than fifteen minutes in the bank? \n",
    "\n",
    "Write a code in python to solve this problem"
   ]
  },
  {
   "cell_type": "code",
   "execution_count": 58,
   "metadata": {},
   "outputs": [
    {
     "data": {
      "text/plain": [
       "0.9512595966960213"
      ]
     },
     "execution_count": 58,
     "metadata": {},
     "output_type": "execute_result"
    },
    {
     "data": {
      "image/png": "[encoded data removed]",
      "text/plain": [
       "<Figure size 432x288 with 1 Axes>"
      ]
     },
     "metadata": {
      "needs_background": "light"
     },
     "output_type": "display_data"
    }
   ],
   "source": [
    "# your answer here\n",
    "# Hint: This is same as saying P(x<15)\n",
    "\n",
    "\n",
    "from scipy.stats import poisson \n",
    "\n",
    "x = [i for i in range(0, 25)]\n",
    "y = [poisson.cdf(i, 10) for i in x]\n",
    "\n",
    "plt.plot(x, y)\n",
    "\n",
    "\n",
    "poisson.cdf(15, 10)"
   ]
  },
  {
   "cell_type": "markdown",
   "metadata": {},
   "source": [
    "What is the probability that the customer will spend more than 15 minutes"
   ]
  },
  {
   "cell_type": "code",
   "execution_count": null,
   "metadata": {},
   "outputs": [],
   "source": [
    "# your answer here"
   ]
  },
  {
   "cell_type": "code",
   "execution_count": 59,
   "metadata": {},
   "outputs": [
    {
     "data": {
      "text/plain": [
       "0.04874040330397866"
      ]
     },
     "execution_count": 59,
     "metadata": {},
     "output_type": "execute_result"
    }
   ],
   "source": [
    "1- poisson.cdf(15, 10)"
   ]
  },
  {
   "cell_type": "code",
   "execution_count": null,
   "metadata": {},
   "outputs": [],
   "source": []
  }
 ],
 "metadata": {
  "kernelspec": {
   "display_name": "Python 3",
   "language": "python",
   "name": "python3"
  },
  "language_info": {
   "codemirror_mode": {
    "name": "ipython",
    "version": 3
   },
   "file_extension": ".py",
   "mimetype": "text/x-python",
   "name": "python",
   "nbconvert_exporter": "python",
   "pygments_lexer": "ipython3",
   "version": "3.8.3"
  }
 },
 "nbformat": 4,
 "nbformat_minor": 2
}
