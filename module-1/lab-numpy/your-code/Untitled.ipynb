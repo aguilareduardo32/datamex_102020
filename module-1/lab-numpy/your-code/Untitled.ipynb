{
 "cells": [
  {
   "cell_type": "code",
   "execution_count": 40,
   "metadata": {},
   "outputs": [
    {
     "name": "stdout",
     "output_type": "stream",
     "text": [
      "1.18.5\n"
     ]
    }
   ],
   "source": [
    "import numpy as np \n",
    "\n",
    "print(np.version.version)"
   ]
  },
  {
   "cell_type": "code",
   "execution_count": 41,
   "metadata": {},
   "outputs": [
    {
     "data": {
      "text/plain": [
       "array([[[0.60145568, 0.96862218, 0.54888616, 0.20650783, 0.30867614],\n",
       "        [0.81252109, 0.06539481, 0.19172603, 0.39411952, 0.66584224],\n",
       "        [0.56731364, 0.66285908, 0.57934718, 0.34615634, 0.49861224]],\n",
       "\n",
       "       [[0.52609325, 0.33645248, 0.37591579, 0.79684611, 0.88565596],\n",
       "        [0.66624973, 0.98165396, 0.91664637, 0.91598539, 0.79873488],\n",
       "        [0.94945675, 0.11560273, 0.46218211, 0.5164583 , 0.32530057]]])"
      ]
     },
     "execution_count": 41,
     "metadata": {},
     "output_type": "execute_result"
    }
   ],
   "source": [
    "a = np.random.random(size=[2,3,5])\n",
    "a"
   ]
  },
  {
   "cell_type": "code",
   "execution_count": 42,
   "metadata": {},
   "outputs": [
    {
     "data": {
      "text/plain": [
       "array([[[1883, 4294, 1569, 7332, 6636],\n",
       "        [4799, 5719, 7122, 9364, 1350],\n",
       "        [8149, 1497, 6491, 3558,  111]],\n",
       "\n",
       "       [[3419, 2913, 8572, 3502, 5732],\n",
       "        [8496, 5267, 4307,    5, 9460],\n",
       "        [6722, 3384, 5695, 7877, 3156]]])"
      ]
     },
     "execution_count": 42,
     "metadata": {},
     "output_type": "execute_result"
    }
   ],
   "source": [
    "a = np.random.randint(0, 10000, size = (2,3,5))\n",
    "a"
   ]
  },
  {
   "cell_type": "code",
   "execution_count": 43,
   "metadata": {},
   "outputs": [
    {
     "data": {
      "text/plain": [
       "array([[[1., 1.],\n",
       "        [1., 1.],\n",
       "        [1., 1.]],\n",
       "\n",
       "       [[1., 1.],\n",
       "        [1., 1.],\n",
       "        [1., 1.]],\n",
       "\n",
       "       [[1., 1.],\n",
       "        [1., 1.],\n",
       "        [1., 1.]],\n",
       "\n",
       "       [[1., 1.],\n",
       "        [1., 1.],\n",
       "        [1., 1.]],\n",
       "\n",
       "       [[1., 1.],\n",
       "        [1., 1.],\n",
       "        [1., 1.]]])"
      ]
     },
     "execution_count": 43,
     "metadata": {},
     "output_type": "execute_result"
    }
   ],
   "source": [
    "\n",
    "b = np.ones((5,3,2))\n",
    "b"
   ]
  },
  {
   "cell_type": "code",
   "execution_count": 44,
   "metadata": {},
   "outputs": [
    {
     "name": "stdout",
     "output_type": "stream",
     "text": [
      "False\n",
      "a shape = (2, 3, 5) n b shape = (5, 3, 2)\n"
     ]
    }
   ],
   "source": [
    "print(a.shape == b.shape)\n",
    "\n",
    "print(f'a shape = {a.shape} n b shape = {b.shape}')"
   ]
  },
  {
   "cell_type": "code",
   "execution_count": 45,
   "metadata": {},
   "outputs": [
    {
     "data": {
      "text/plain": [
       "'\\n\\nA numpy array uses vector algebra in that you can only add two arrays if they have the same dimensions as you are adding element by element\\n\\n a = [1,2,3,4,5]\\n b = [1,1,1]\\n a+b # will throw an error\\n\\nwhilst\\n\\n a = [1,2,3,4,5]\\n b = [1,1,1,1,1]\\n a+b # is ok\\n\\n    https://stackoverflow.com/questions/40955903/simple-adding-two-arrays-using-numpy-in-python\\n    \\n    '"
      ]
     },
     "execution_count": 45,
     "metadata": {},
     "output_type": "execute_result"
    }
   ],
   "source": [
    "\n",
    "\"\"\"\n",
    "\n",
    "A numpy array uses vector algebra in that you can only add two arrays if they have the same dimensions as you are adding element by element\n",
    "\n",
    " a = [1,2,3,4,5]\n",
    " b = [1,1,1]\n",
    " a+b # will throw an error\n",
    "\n",
    "whilst\n",
    "\n",
    " a = [1,2,3,4,5]\n",
    " b = [1,1,1,1,1]\n",
    " a+b # is ok\n",
    "\n",
    "    https://stackoverflow.com/questions/40955903/simple-adding-two-arrays-using-numpy-in-python\n",
    "    \n",
    "    \"\"\""
   ]
  },
  {
   "cell_type": "code",
   "execution_count": 46,
   "metadata": {},
   "outputs": [
    {
     "data": {
      "text/plain": [
       "array([[[1., 1., 1., 1., 1.],\n",
       "        [1., 1., 1., 1., 1.],\n",
       "        [1., 1., 1., 1., 1.]],\n",
       "\n",
       "       [[1., 1., 1., 1., 1.],\n",
       "        [1., 1., 1., 1., 1.],\n",
       "        [1., 1., 1., 1., 1.]]])"
      ]
     },
     "execution_count": 46,
     "metadata": {},
     "output_type": "execute_result"
    }
   ],
   "source": [
    "c = b.T\n",
    "c"
   ]
  },
  {
   "cell_type": "code",
   "execution_count": 47,
   "metadata": {},
   "outputs": [],
   "source": [
    "d = a+c\n"
   ]
  },
  {
   "cell_type": "code",
   "execution_count": 48,
   "metadata": {},
   "outputs": [
    {
     "data": {
      "text/plain": [
       "array([[[1883, 4294, 1569, 7332, 6636],\n",
       "        [4799, 5719, 7122, 9364, 1350],\n",
       "        [8149, 1497, 6491, 3558,  111]],\n",
       "\n",
       "       [[3419, 2913, 8572, 3502, 5732],\n",
       "        [8496, 5267, 4307,    5, 9460],\n",
       "        [6722, 3384, 5695, 7877, 3156]]])"
      ]
     },
     "execution_count": 48,
     "metadata": {},
     "output_type": "execute_result"
    }
   ],
   "source": [
    "\n",
    "a\n"
   ]
  },
  {
   "cell_type": "code",
   "execution_count": 49,
   "metadata": {},
   "outputs": [
    {
     "data": {
      "text/plain": [
       "3"
      ]
     },
     "execution_count": 49,
     "metadata": {},
     "output_type": "execute_result"
    }
   ],
   "source": [
    "d\n",
    "d.shape[1]"
   ]
  },
  {
   "cell_type": "code",
   "execution_count": 50,
   "metadata": {},
   "outputs": [],
   "source": [
    "e = a * c"
   ]
  },
  {
   "cell_type": "code",
   "execution_count": 51,
   "metadata": {},
   "outputs": [
    {
     "data": {
      "text/plain": [
       "array([[[1.883e+03, 4.294e+03, 1.569e+03, 7.332e+03, 6.636e+03],\n",
       "        [4.799e+03, 5.719e+03, 7.122e+03, 9.364e+03, 1.350e+03],\n",
       "        [8.149e+03, 1.497e+03, 6.491e+03, 3.558e+03, 1.110e+02]],\n",
       "\n",
       "       [[3.419e+03, 2.913e+03, 8.572e+03, 3.502e+03, 5.732e+03],\n",
       "        [8.496e+03, 5.267e+03, 4.307e+03, 5.000e+00, 9.460e+03],\n",
       "        [6.722e+03, 3.384e+03, 5.695e+03, 7.877e+03, 3.156e+03]]])"
      ]
     },
     "execution_count": 51,
     "metadata": {},
     "output_type": "execute_result"
    }
   ],
   "source": [
    "e"
   ]
  },
  {
   "cell_type": "code",
   "execution_count": 52,
   "metadata": {},
   "outputs": [],
   "source": [
    "d_max = d.max()\n",
    "d_min = d.min()\n",
    "d_mean = d.mean()\n",
    "\n"
   ]
  },
  {
   "cell_type": "code",
   "execution_count": 53,
   "metadata": {},
   "outputs": [
    {
     "data": {
      "text/plain": [
       "array([[[1.883e+03, 4.294e+03, 1.569e+03, 7.332e+03, 6.636e+03],\n",
       "        [4.799e+03, 5.719e+03, 7.122e+03, 9.364e+03, 1.350e+03],\n",
       "        [8.149e+03, 1.497e+03, 6.491e+03, 3.558e+03, 1.110e+02]],\n",
       "\n",
       "       [[3.419e+03, 2.913e+03, 8.572e+03, 3.502e+03, 5.732e+03],\n",
       "        [8.496e+03, 5.267e+03, 4.307e+03, 5.000e+00, 9.460e+03],\n",
       "        [6.722e+03, 3.384e+03, 5.695e+03, 7.877e+03, 3.156e+03]]])"
      ]
     },
     "execution_count": 53,
     "metadata": {},
     "output_type": "execute_result"
    }
   ],
   "source": [
    "f = np.empty((2,3,5))\n",
    "f"
   ]
  },
  {
   "cell_type": "code",
   "execution_count": 60,
   "metadata": {},
   "outputs": [
    {
     "data": {
      "text/plain": [
       "array([[[ 25.,  25.,  25.,  75.,  75.],\n",
       "        [ 25.,  75.,  75.,  75.,  25.],\n",
       "        [ 75.,  25.,  75.,  25.,  25.]],\n",
       "\n",
       "       [[ 25.,  25.,  75.,  25.,  75.],\n",
       "        [ 75.,  75.,  25.,   0., 100.],\n",
       "        [ 75.,  25.,  75.,  75.,  25.]]])"
      ]
     },
     "execution_count": 60,
     "metadata": {},
     "output_type": "execute_result"
    }
   ],
   "source": [
    "for matrix in range(d.shape[0]):\n",
    "    for row in range(d.shape[1]):\n",
    "        for value in range(d.shape[2]):\n",
    "            if d_min < d[matrix,row,value] < d_mean:\n",
    "                f[matrix,row,value] = 25\n",
    "            elif d_mean < d[matrix,row,value] < d_max:\n",
    "                f[matrix, row, value] = 75\n",
    "            elif d[matrix,row,value] == d_mean:\n",
    "                \n",
    "                f[matrix,row,value] = 50\n",
    "                \n",
    "            elif d[matrix,row,value] == d_min:\n",
    "                \n",
    "                f[matrix,row,value] = 0\n",
    "            elif d[matrix,row,value] == d_max:\n",
    "                \n",
    "                f[matrix,row,value] = 100\n",
    "             \n",
    "                \n",
    "            \n",
    "f         "
   ]
  },
  {
   "cell_type": "code",
   "execution_count": null,
   "metadata": {},
   "outputs": [],
   "source": []
  },
  {
   "cell_type": "code",
   "execution_count": null,
   "metadata": {},
   "outputs": [],
   "source": []
  }
 ],
 "metadata": {
  "kernelspec": {
   "display_name": "Python 3",
   "language": "python",
   "name": "python3"
  },
  "language_info": {
   "codemirror_mode": {
    "name": "ipython",
    "version": 3
   },
   "file_extension": ".py",
   "mimetype": "text/x-python",
   "name": "python",
   "nbconvert_exporter": "python",
   "pygments_lexer": "ipython3",
   "version": "3.8.3"
  }
 },
 "nbformat": 4,
 "nbformat_minor": 4
}
