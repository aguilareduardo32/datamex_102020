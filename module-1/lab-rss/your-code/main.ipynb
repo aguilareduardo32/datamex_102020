{
 "cells": [
  {
   "cell_type": "markdown",
   "metadata": {},
   "source": [
    "# Working with RSS Feeds Lab\n",
    "\n",
    "Complete the following set of exercises to solidify your knowledge of parsing RSS feeds and extracting information from them."
   ]
  },
  {
   "cell_type": "code",
   "execution_count": 74,
   "metadata": {},
   "outputs": [],
   "source": [
    "\n",
    "import feedparser\n",
    "import re"
   ]
  },
  {
   "cell_type": "markdown",
   "metadata": {},
   "source": [
    "### 1. Use feedparser to parse the following RSS feed URL."
   ]
  },
  {
   "cell_type": "code",
   "execution_count": 75,
   "metadata": {},
   "outputs": [],
   "source": [
    "url = 'http://feeds.feedburner.com/oreilly/radar/atom'"
   ]
  },
  {
   "cell_type": "code",
   "execution_count": 76,
   "metadata": {},
   "outputs": [
    {
     "data": {
      "text/plain": [
       "60"
      ]
     },
     "execution_count": 76,
     "metadata": {},
     "output_type": "execute_result"
    }
   ],
   "source": [
    "url_1 = feedparser.parse('http://feeds.feedburner.com/oreilly/radar/atom')\n",
    "#url_1\n",
    "url_1.keys()\n",
    "\n",
    "url_1['feed'].keys()\n",
    "\n",
    "url_1['feed']['title']\n",
    "url_1['feed']['subtitle']\n",
    "url_1['feed']['link']\n",
    "\n",
    "len(url_1['entries'])\n"
   ]
  },
  {
   "cell_type": "markdown",
   "metadata": {},
   "source": [
    "### 6. Obtain a list of components (keys) available for an entry.\n",
    "\n",
    "*Hint: Remember to index first before requesting the keys*"
   ]
  },
  {
   "cell_type": "code",
   "execution_count": 77,
   "metadata": {},
   "outputs": [
    {
     "data": {
      "text/plain": [
       "dict_keys(['title', 'title_detail', 'links', 'link', 'comments', 'published', 'published_parsed', 'authors', 'author', 'author_detail', 'tags', 'id', 'guidislink', 'summary', 'summary_detail', 'content', 'wfw_commentrss', 'slash_comments', 'feedburner_origlink'])"
      ]
     },
     "execution_count": 77,
     "metadata": {},
     "output_type": "execute_result"
    }
   ],
   "source": [
    "url_1['entries'][0].keys()"
   ]
  },
  {
   "cell_type": "markdown",
   "metadata": {},
   "source": [
    "### 7. Extract a list of entry titles."
   ]
  },
  {
   "cell_type": "code",
   "execution_count": 78,
   "metadata": {},
   "outputs": [
    {
     "data": {
      "text/plain": [
       "['Four short links: 30 Oct 2020',\n",
       " 'Four short links: 28 Oct 2020',\n",
       " 'Our Favorite Questions',\n",
       " 'Four short links: 21 Oct 2020',\n",
       " 'Four Short Links: 16 October 2020',\n",
       " 'Four short links: 14 Oct 2020',\n",
       " 'AI Product Management After Deployment',\n",
       " 'Four short links: 9 October 2020',\n",
       " 'AI and Creativity',\n",
       " 'Four short links: 6 October 2020']"
      ]
     },
     "execution_count": 78,
     "metadata": {},
     "output_type": "execute_result"
    }
   ],
   "source": [
    "titles = [url_1['title'] for url_1 in url_1['entries']]\n",
    "titles[:10]\n"
   ]
  },
  {
   "cell_type": "markdown",
   "metadata": {},
   "source": [
    "### 8. Calculate the percentage of \"Four short links\" entry titles."
   ]
  },
  {
   "cell_type": "code",
   "execution_count": 79,
   "metadata": {},
   "outputs": [
    {
     "name": "stdout",
     "output_type": "stream",
     "text": [
      "68.33333333333333%\n"
     ]
    }
   ],
   "source": [
    "x = 0\n",
    "for title in titles:\n",
    "    if 'Four short links' in title:\n",
    "        x +=1\n",
    "        \n",
    "p = 100* x / len(titles)\n",
    "\n",
    "print(f'{p}%')"
   ]
  },
  {
   "cell_type": "markdown",
   "metadata": {},
   "source": [
    "### 9. Create a Pandas data frame from the feed's entries."
   ]
  },
  {
   "cell_type": "code",
   "execution_count": 86,
   "metadata": {},
   "outputs": [],
   "source": [
    "import pandas as pd\n",
    "from pandas.io.json import json_normalize"
   ]
  },
  {
   "cell_type": "code",
   "execution_count": 88,
   "metadata": {},
   "outputs": [
    {
     "data": {
      "text/html": [
       "<div>\n",
       "<style scoped>\n",
       "    .dataframe tbody tr th:only-of-type {\n",
       "        vertical-align: middle;\n",
       "    }\n",
       "\n",
       "    .dataframe tbody tr th {\n",
       "        vertical-align: top;\n",
       "    }\n",
       "\n",
       "    .dataframe thead th {\n",
       "        text-align: right;\n",
       "    }\n",
       "</style>\n",
       "<table border=\"1\" class=\"dataframe\">\n",
       "  <thead>\n",
       "    <tr style=\"text-align: right;\">\n",
       "      <th></th>\n",
       "      <th>title</th>\n",
       "      <th>links</th>\n",
       "      <th>link</th>\n",
       "      <th>comments</th>\n",
       "      <th>published</th>\n",
       "      <th>published_parsed</th>\n",
       "      <th>authors</th>\n",
       "      <th>author</th>\n",
       "      <th>tags</th>\n",
       "      <th>id</th>\n",
       "      <th>...</th>\n",
       "      <th>feedburner_origlink</th>\n",
       "      <th>title_detail.type</th>\n",
       "      <th>title_detail.language</th>\n",
       "      <th>title_detail.base</th>\n",
       "      <th>title_detail.value</th>\n",
       "      <th>author_detail.name</th>\n",
       "      <th>summary_detail.type</th>\n",
       "      <th>summary_detail.language</th>\n",
       "      <th>summary_detail.base</th>\n",
       "      <th>summary_detail.value</th>\n",
       "    </tr>\n",
       "  </thead>\n",
       "  <tbody>\n",
       "    <tr>\n",
       "      <th>0</th>\n",
       "      <td>Four short links: 30 Oct 2020</td>\n",
       "      <td>[{'rel': 'alternate', 'type': 'text/html', 'hr...</td>\n",
       "      <td>http://feedproxy.google.com/~r/oreilly/radar/a...</td>\n",
       "      <td>https://www.oreilly.com/radar/four-short-links...</td>\n",
       "      <td>Fri, 30 Oct 2020 11:05:49 +0000</td>\n",
       "      <td>(2020, 10, 30, 11, 5, 49, 4, 304, 0)</td>\n",
       "      <td>[{'name': 'Nat Torkington'}]</td>\n",
       "      <td>Nat Torkington</td>\n",
       "      <td>[{'term': 'Four Short Links', 'scheme': None, ...</td>\n",
       "      <td>https://www.oreilly.com/radar/?p=13385</td>\n",
       "      <td>...</td>\n",
       "      <td>https://www.oreilly.com/radar/four-short-links...</td>\n",
       "      <td>text/plain</td>\n",
       "      <td>None</td>\n",
       "      <td>http://feeds.feedburner.com/oreilly/radar/atom</td>\n",
       "      <td>Four short links: 30 Oct 2020</td>\n",
       "      <td>Nat Torkington</td>\n",
       "      <td>text/html</td>\n",
       "      <td>None</td>\n",
       "      <td>http://feeds.feedburner.com/oreilly/radar/atom</td>\n",
       "      <td>Mutation Testing &amp;#8212; in this paper, we sem...</td>\n",
       "    </tr>\n",
       "    <tr>\n",
       "      <th>1</th>\n",
       "      <td>Four short links: 28 Oct 2020</td>\n",
       "      <td>[{'rel': 'alternate', 'type': 'text/html', 'hr...</td>\n",
       "      <td>http://feedproxy.google.com/~r/oreilly/radar/a...</td>\n",
       "      <td>https://www.oreilly.com/radar/four-short-links...</td>\n",
       "      <td>Wed, 28 Oct 2020 11:39:13 +0000</td>\n",
       "      <td>(2020, 10, 28, 11, 39, 13, 2, 302, 0)</td>\n",
       "      <td>[{'name': 'Nat Torkington'}]</td>\n",
       "      <td>Nat Torkington</td>\n",
       "      <td>[{'term': 'Four Short Links', 'scheme': None, ...</td>\n",
       "      <td>https://www.oreilly.com/radar/?p=13382</td>\n",
       "      <td>...</td>\n",
       "      <td>https://www.oreilly.com/radar/four-short-links...</td>\n",
       "      <td>text/plain</td>\n",
       "      <td>None</td>\n",
       "      <td>http://feeds.feedburner.com/oreilly/radar/atom</td>\n",
       "      <td>Four short links: 28 Oct 2020</td>\n",
       "      <td>Nat Torkington</td>\n",
       "      <td>text/html</td>\n",
       "      <td>None</td>\n",
       "      <td>http://feeds.feedburner.com/oreilly/radar/atom</td>\n",
       "      <td>Phantom of the ADAS &amp;#8212; In this paper, we ...</td>\n",
       "    </tr>\n",
       "    <tr>\n",
       "      <th>2</th>\n",
       "      <td>Our Favorite Questions</td>\n",
       "      <td>[{'rel': 'alternate', 'type': 'text/html', 'hr...</td>\n",
       "      <td>http://feedproxy.google.com/~r/oreilly/radar/a...</td>\n",
       "      <td>https://www.oreilly.com/radar/our-favorite-que...</td>\n",
       "      <td>Thu, 22 Oct 2020 14:33:17 +0000</td>\n",
       "      <td>(2020, 10, 22, 14, 33, 17, 3, 296, 0)</td>\n",
       "      <td>[{'name': 'Q Ethan McCallum, Chris Butler and ...</td>\n",
       "      <td>Q Ethan McCallum, Chris Butler and Shane Glynn</td>\n",
       "      <td>[{'term': 'AI &amp; ML', 'scheme': None, 'label': ...</td>\n",
       "      <td>https://www.oreilly.com/radar/?p=13374</td>\n",
       "      <td>...</td>\n",
       "      <td>https://www.oreilly.com/radar/our-favorite-que...</td>\n",
       "      <td>text/plain</td>\n",
       "      <td>None</td>\n",
       "      <td>http://feeds.feedburner.com/oreilly/radar/atom</td>\n",
       "      <td>Our Favorite Questions</td>\n",
       "      <td>Q Ethan McCallum, Chris Butler and Shane Glynn</td>\n",
       "      <td>text/html</td>\n",
       "      <td>None</td>\n",
       "      <td>http://feeds.feedburner.com/oreilly/radar/atom</td>\n",
       "      <td>&amp;#8220;On peut interroger n&amp;#8217;importe qui,...</td>\n",
       "    </tr>\n",
       "    <tr>\n",
       "      <th>3</th>\n",
       "      <td>Four short links: 21 Oct 2020</td>\n",
       "      <td>[{'rel': 'alternate', 'type': 'text/html', 'hr...</td>\n",
       "      <td>http://feedproxy.google.com/~r/oreilly/radar/a...</td>\n",
       "      <td>https://www.oreilly.com/radar/four-short-links...</td>\n",
       "      <td>Wed, 21 Oct 2020 11:34:42 +0000</td>\n",
       "      <td>(2020, 10, 21, 11, 34, 42, 2, 295, 0)</td>\n",
       "      <td>[{'name': 'Nat Torkington'}]</td>\n",
       "      <td>Nat Torkington</td>\n",
       "      <td>[{'term': 'Four Short Links', 'scheme': None, ...</td>\n",
       "      <td>https://www.oreilly.com/radar/?p=13376</td>\n",
       "      <td>...</td>\n",
       "      <td>https://www.oreilly.com/radar/four-short-links...</td>\n",
       "      <td>text/plain</td>\n",
       "      <td>None</td>\n",
       "      <td>http://feeds.feedburner.com/oreilly/radar/atom</td>\n",
       "      <td>Four short links: 21 Oct 2020</td>\n",
       "      <td>Nat Torkington</td>\n",
       "      <td>text/html</td>\n",
       "      <td>None</td>\n",
       "      <td>http://feeds.feedburner.com/oreilly/radar/atom</td>\n",
       "      <td>Justice Department Antitrust Filing Against Go...</td>\n",
       "    </tr>\n",
       "    <tr>\n",
       "      <th>4</th>\n",
       "      <td>Four Short Links: 16 October 2020</td>\n",
       "      <td>[{'rel': 'alternate', 'type': 'text/html', 'hr...</td>\n",
       "      <td>http://feedproxy.google.com/~r/oreilly/radar/a...</td>\n",
       "      <td>https://www.oreilly.com/radar/four-short-links...</td>\n",
       "      <td>Fri, 16 Oct 2020 11:21:43 +0000</td>\n",
       "      <td>(2020, 10, 16, 11, 21, 43, 4, 290, 0)</td>\n",
       "      <td>[{}]</td>\n",
       "      <td></td>\n",
       "      <td>NaN</td>\n",
       "      <td>https://www.oreilly.com/radar/?p=13371</td>\n",
       "      <td>...</td>\n",
       "      <td>https://www.oreilly.com/radar/four-short-links...</td>\n",
       "      <td>text/plain</td>\n",
       "      <td>None</td>\n",
       "      <td>http://feeds.feedburner.com/oreilly/radar/atom</td>\n",
       "      <td>Four Short Links: 16 October 2020</td>\n",
       "      <td>NaN</td>\n",
       "      <td>text/html</td>\n",
       "      <td>None</td>\n",
       "      <td>http://feeds.feedburner.com/oreilly/radar/atom</td>\n",
       "      <td>Automerge &amp;#8212; (Github) Data structure libr...</td>\n",
       "    </tr>\n",
       "  </tbody>\n",
       "</table>\n",
       "<p>5 rows × 25 columns</p>\n",
       "</div>"
      ],
      "text/plain": [
       "                               title  \\\n",
       "0      Four short links: 30 Oct 2020   \n",
       "1      Four short links: 28 Oct 2020   \n",
       "2             Our Favorite Questions   \n",
       "3      Four short links: 21 Oct 2020   \n",
       "4  Four Short Links: 16 October 2020   \n",
       "\n",
       "                                               links  \\\n",
       "0  [{'rel': 'alternate', 'type': 'text/html', 'hr...   \n",
       "1  [{'rel': 'alternate', 'type': 'text/html', 'hr...   \n",
       "2  [{'rel': 'alternate', 'type': 'text/html', 'hr...   \n",
       "3  [{'rel': 'alternate', 'type': 'text/html', 'hr...   \n",
       "4  [{'rel': 'alternate', 'type': 'text/html', 'hr...   \n",
       "\n",
       "                                                link  \\\n",
       "0  http://feedproxy.google.com/~r/oreilly/radar/a...   \n",
       "1  http://feedproxy.google.com/~r/oreilly/radar/a...   \n",
       "2  http://feedproxy.google.com/~r/oreilly/radar/a...   \n",
       "3  http://feedproxy.google.com/~r/oreilly/radar/a...   \n",
       "4  http://feedproxy.google.com/~r/oreilly/radar/a...   \n",
       "\n",
       "                                            comments  \\\n",
       "0  https://www.oreilly.com/radar/four-short-links...   \n",
       "1  https://www.oreilly.com/radar/four-short-links...   \n",
       "2  https://www.oreilly.com/radar/our-favorite-que...   \n",
       "3  https://www.oreilly.com/radar/four-short-links...   \n",
       "4  https://www.oreilly.com/radar/four-short-links...   \n",
       "\n",
       "                         published                       published_parsed  \\\n",
       "0  Fri, 30 Oct 2020 11:05:49 +0000   (2020, 10, 30, 11, 5, 49, 4, 304, 0)   \n",
       "1  Wed, 28 Oct 2020 11:39:13 +0000  (2020, 10, 28, 11, 39, 13, 2, 302, 0)   \n",
       "2  Thu, 22 Oct 2020 14:33:17 +0000  (2020, 10, 22, 14, 33, 17, 3, 296, 0)   \n",
       "3  Wed, 21 Oct 2020 11:34:42 +0000  (2020, 10, 21, 11, 34, 42, 2, 295, 0)   \n",
       "4  Fri, 16 Oct 2020 11:21:43 +0000  (2020, 10, 16, 11, 21, 43, 4, 290, 0)   \n",
       "\n",
       "                                             authors  \\\n",
       "0                       [{'name': 'Nat Torkington'}]   \n",
       "1                       [{'name': 'Nat Torkington'}]   \n",
       "2  [{'name': 'Q Ethan McCallum, Chris Butler and ...   \n",
       "3                       [{'name': 'Nat Torkington'}]   \n",
       "4                                               [{}]   \n",
       "\n",
       "                                           author  \\\n",
       "0                                  Nat Torkington   \n",
       "1                                  Nat Torkington   \n",
       "2  Q Ethan McCallum, Chris Butler and Shane Glynn   \n",
       "3                                  Nat Torkington   \n",
       "4                                                   \n",
       "\n",
       "                                                tags  \\\n",
       "0  [{'term': 'Four Short Links', 'scheme': None, ...   \n",
       "1  [{'term': 'Four Short Links', 'scheme': None, ...   \n",
       "2  [{'term': 'AI & ML', 'scheme': None, 'label': ...   \n",
       "3  [{'term': 'Four Short Links', 'scheme': None, ...   \n",
       "4                                                NaN   \n",
       "\n",
       "                                       id  ...  \\\n",
       "0  https://www.oreilly.com/radar/?p=13385  ...   \n",
       "1  https://www.oreilly.com/radar/?p=13382  ...   \n",
       "2  https://www.oreilly.com/radar/?p=13374  ...   \n",
       "3  https://www.oreilly.com/radar/?p=13376  ...   \n",
       "4  https://www.oreilly.com/radar/?p=13371  ...   \n",
       "\n",
       "                                 feedburner_origlink title_detail.type  \\\n",
       "0  https://www.oreilly.com/radar/four-short-links...        text/plain   \n",
       "1  https://www.oreilly.com/radar/four-short-links...        text/plain   \n",
       "2  https://www.oreilly.com/radar/our-favorite-que...        text/plain   \n",
       "3  https://www.oreilly.com/radar/four-short-links...        text/plain   \n",
       "4  https://www.oreilly.com/radar/four-short-links...        text/plain   \n",
       "\n",
       "  title_detail.language                               title_detail.base  \\\n",
       "0                  None  http://feeds.feedburner.com/oreilly/radar/atom   \n",
       "1                  None  http://feeds.feedburner.com/oreilly/radar/atom   \n",
       "2                  None  http://feeds.feedburner.com/oreilly/radar/atom   \n",
       "3                  None  http://feeds.feedburner.com/oreilly/radar/atom   \n",
       "4                  None  http://feeds.feedburner.com/oreilly/radar/atom   \n",
       "\n",
       "                  title_detail.value  \\\n",
       "0      Four short links: 30 Oct 2020   \n",
       "1      Four short links: 28 Oct 2020   \n",
       "2             Our Favorite Questions   \n",
       "3      Four short links: 21 Oct 2020   \n",
       "4  Four Short Links: 16 October 2020   \n",
       "\n",
       "                               author_detail.name summary_detail.type  \\\n",
       "0                                  Nat Torkington           text/html   \n",
       "1                                  Nat Torkington           text/html   \n",
       "2  Q Ethan McCallum, Chris Butler and Shane Glynn           text/html   \n",
       "3                                  Nat Torkington           text/html   \n",
       "4                                             NaN           text/html   \n",
       "\n",
       "  summary_detail.language                             summary_detail.base  \\\n",
       "0                    None  http://feeds.feedburner.com/oreilly/radar/atom   \n",
       "1                    None  http://feeds.feedburner.com/oreilly/radar/atom   \n",
       "2                    None  http://feeds.feedburner.com/oreilly/radar/atom   \n",
       "3                    None  http://feeds.feedburner.com/oreilly/radar/atom   \n",
       "4                    None  http://feeds.feedburner.com/oreilly/radar/atom   \n",
       "\n",
       "                                summary_detail.value  \n",
       "0  Mutation Testing &#8212; in this paper, we sem...  \n",
       "1  Phantom of the ADAS &#8212; In this paper, we ...  \n",
       "2  &#8220;On peut interroger n&#8217;importe qui,...  \n",
       "3  Justice Department Antitrust Filing Against Go...  \n",
       "4  Automerge &#8212; (Github) Data structure libr...  \n",
       "\n",
       "[5 rows x 25 columns]"
      ]
     },
     "execution_count": 88,
     "metadata": {},
     "output_type": "execute_result"
    }
   ],
   "source": [
    "df = pd.json_normalize(url_1['entries'])\n",
    "df.head()"
   ]
  },
  {
   "cell_type": "markdown",
   "metadata": {},
   "source": [
    "### 10. Count the number of entries per author and sort them in descending order."
   ]
  },
  {
   "cell_type": "code",
   "execution_count": 82,
   "metadata": {},
   "outputs": [
    {
     "data": {
      "text/html": [
       "<div>\n",
       "<style scoped>\n",
       "    .dataframe tbody tr th:only-of-type {\n",
       "        vertical-align: middle;\n",
       "    }\n",
       "\n",
       "    .dataframe tbody tr th {\n",
       "        vertical-align: top;\n",
       "    }\n",
       "\n",
       "    .dataframe thead th {\n",
       "        text-align: right;\n",
       "    }\n",
       "</style>\n",
       "<table border=\"1\" class=\"dataframe\">\n",
       "  <thead>\n",
       "    <tr style=\"text-align: right;\">\n",
       "      <th></th>\n",
       "      <th>Appearances</th>\n",
       "    </tr>\n",
       "    <tr>\n",
       "      <th>Author</th>\n",
       "      <th></th>\n",
       "    </tr>\n",
       "  </thead>\n",
       "  <tbody>\n",
       "    <tr>\n",
       "      <th>{'name': 'Nat Torkington'}</th>\n",
       "      <td>42</td>\n",
       "    </tr>\n",
       "    <tr>\n",
       "      <th>{'name': 'Mike Loukides'}</th>\n",
       "      <td>9</td>\n",
       "    </tr>\n",
       "    <tr>\n",
       "      <th>Mike Loukides'}</th>\n",
       "      <td>3</td>\n",
       "    </tr>\n",
       "    <tr>\n",
       "      <th>{'name': 'Q Ethan McCallum</th>\n",
       "      <td>2</td>\n",
       "    </tr>\n",
       "    <tr>\n",
       "      <th>{'name': 'Justin Norman</th>\n",
       "      <td>2</td>\n",
       "    </tr>\n",
       "    <tr>\n",
       "      <th>{'name': 'Sarah Gold'}</th>\n",
       "      <td>1</td>\n",
       "    </tr>\n",
       "    <tr>\n",
       "      <th>nan</th>\n",
       "      <td>1</td>\n",
       "    </tr>\n",
       "    <tr>\n",
       "      <th>Steve Swoyer'}</th>\n",
       "      <td>1</td>\n",
       "    </tr>\n",
       "    <tr>\n",
       "      <th>{'name': 'Alex Castrounis'}</th>\n",
       "      <td>1</td>\n",
       "    </tr>\n",
       "    <tr>\n",
       "      <th>Chris Butler</th>\n",
       "      <td>1</td>\n",
       "    </tr>\n",
       "    <tr>\n",
       "      <th>{'name': 'Mike Loukides</th>\n",
       "      <td>1</td>\n",
       "    </tr>\n",
       "    <tr>\n",
       "      <th>Hugo Bowne-Anderson'}</th>\n",
       "      <td>1</td>\n",
       "    </tr>\n",
       "    <tr>\n",
       "      <th>Shane Glynn'}</th>\n",
       "      <td>1</td>\n",
       "    </tr>\n",
       "    <tr>\n",
       "      <th>Peter Skomoroch</th>\n",
       "      <td>1</td>\n",
       "    </tr>\n",
       "    <tr>\n",
       "      <th>{'name': 'Matthew Rocklin</th>\n",
       "      <td>1</td>\n",
       "    </tr>\n",
       "  </tbody>\n",
       "</table>\n",
       "</div>"
      ],
      "text/plain": [
       "                             Appearances\n",
       "Author                                  \n",
       "{'name': 'Nat Torkington'}            42\n",
       "{'name': 'Mike Loukides'}              9\n",
       "Mike Loukides'}                        3\n",
       "{'name': 'Q Ethan McCallum             2\n",
       "{'name': 'Justin Norman                2\n",
       "{'name': 'Sarah Gold'}                 1\n",
       "nan                                    1\n",
       "Steve Swoyer'}                         1\n",
       "{'name': 'Alex Castrounis'}            1\n",
       "Chris Butler                           1\n",
       "{'name': 'Mike Loukides                1\n",
       "Hugo Bowne-Anderson'}                  1\n",
       "Shane Glynn'}                          1\n",
       "Peter Skomoroch                        1\n",
       "{'name': 'Matthew Rocklin              1"
      ]
     },
     "execution_count": 82,
     "metadata": {},
     "output_type": "execute_result"
    }
   ],
   "source": [
    "df['author'].value_counts()\n",
    "\n",
    "\n",
    "authors = df['author_detail'].astype('str').tolist()\n",
    "a = []\n",
    "row = []\n",
    "for entry in authors:\n",
    "    row = []\n",
    "    for i in entry.split(', '):\n",
    "        row.extend(i.split(' and '))\n",
    "    a.extend(row)\n",
    "# a_set = set([i for i in a if i != 'nan'])\n",
    "a_set = set(a)\n",
    "\n",
    "c = []\n",
    "for author in a_set:\n",
    "    c.append((author,a.count(author)))\n",
    "c.sort(key = lambda x: x[1], reverse = True)\n",
    "\n",
    "c = pd.DataFrame(c)\n",
    "c.columns = ['Author','Appearances']\n",
    "c.set_index('Author')"
   ]
  },
  {
   "cell_type": "markdown",
   "metadata": {},
   "source": [
    "### 11. Add a new column to the data frame that contains the length (number of characters) of each entry title. Return a data frame that contains the title, author, and title length of each entry in descending order (longest title length at the top)."
   ]
  },
  {
   "cell_type": "code",
   "execution_count": 83,
   "metadata": {},
   "outputs": [
    {
     "data": {
      "text/html": [
       "<div>\n",
       "<style scoped>\n",
       "    .dataframe tbody tr th:only-of-type {\n",
       "        vertical-align: middle;\n",
       "    }\n",
       "\n",
       "    .dataframe tbody tr th {\n",
       "        vertical-align: top;\n",
       "    }\n",
       "\n",
       "    .dataframe thead th {\n",
       "        text-align: right;\n",
       "    }\n",
       "</style>\n",
       "<table border=\"1\" class=\"dataframe\">\n",
       "  <thead>\n",
       "    <tr style=\"text-align: right;\">\n",
       "      <th></th>\n",
       "      <th>title</th>\n",
       "      <th>author</th>\n",
       "      <th>title_len</th>\n",
       "    </tr>\n",
       "  </thead>\n",
       "  <tbody>\n",
       "    <tr>\n",
       "      <th>28</th>\n",
       "      <td>Why Best-of-Breed is a Better Choice than All-...</td>\n",
       "      <td>Matthew Rocklin and Hugo Bowne-Anderson</td>\n",
       "      <td>79</td>\n",
       "    </tr>\n",
       "    <tr>\n",
       "      <th>55</th>\n",
       "      <td>Automated Coding and the Future of Programming</td>\n",
       "      <td>Mike Loukides</td>\n",
       "      <td>46</td>\n",
       "    </tr>\n",
       "    <tr>\n",
       "      <th>6</th>\n",
       "      <td>AI Product Management After Deployment</td>\n",
       "      <td>Justin Norman and Mike Loukides</td>\n",
       "      <td>38</td>\n",
       "    </tr>\n",
       "    <tr>\n",
       "      <th>30</th>\n",
       "      <td>The Least Liked Programming Languages</td>\n",
       "      <td>Mike Loukides</td>\n",
       "      <td>37</td>\n",
       "    </tr>\n",
       "    <tr>\n",
       "      <th>22</th>\n",
       "      <td>Radar trends to watch: September 2020</td>\n",
       "      <td>Mike Loukides</td>\n",
       "      <td>37</td>\n",
       "    </tr>\n",
       "  </tbody>\n",
       "</table>\n",
       "</div>"
      ],
      "text/plain": [
       "                                                title  \\\n",
       "28  Why Best-of-Breed is a Better Choice than All-...   \n",
       "55     Automated Coding and the Future of Programming   \n",
       "6              AI Product Management After Deployment   \n",
       "30              The Least Liked Programming Languages   \n",
       "22              Radar trends to watch: September 2020   \n",
       "\n",
       "                                     author  title_len  \n",
       "28  Matthew Rocklin and Hugo Bowne-Anderson         79  \n",
       "55                            Mike Loukides         46  \n",
       "6           Justin Norman and Mike Loukides         38  \n",
       "30                            Mike Loukides         37  \n",
       "22                            Mike Loukides         37  "
      ]
     },
     "execution_count": 83,
     "metadata": {},
     "output_type": "execute_result"
    }
   ],
   "source": [
    "\n",
    "\n",
    "df['title'] \n",
    "df['title_len'] = df['title'].apply(lambda x: len(x))\n",
    "#df['title_len']\n",
    "\n",
    "df_2 = df[['title', 'author', 'title_len']]\n",
    "df_3 = df_2.sort_values(by = 'title_len', ascending = False)\n",
    "df_3.head()\n",
    "\n"
   ]
  },
  {
   "cell_type": "markdown",
   "metadata": {},
   "source": [
    "### 12. Create a list of entry titles whose summary includes the phrase \"machine learning.\""
   ]
  },
  {
   "cell_type": "code",
   "execution_count": 101,
   "metadata": {},
   "outputs": [
    {
     "data": {
      "text/plain": [
       "['Four short links: 21 August 2020', 'Four short links: 8 July 2020']"
      ]
     },
     "execution_count": 101,
     "metadata": {},
     "output_type": "execute_result"
    }
   ],
   "source": [
    "df['summary_detail.value'] = df['summary_detail.value'].astype('str')\n",
    "df['summary_detail.value'] = df['summary_detail.value'].apply(lambda x: re.sub('.{2}\\d*;', '', x))\n",
    "df_4 = df.loc[df['summary_detail.value'].apply(lambda x: 'machine learning' in x.lower())]\n",
    "lista = df_4['title'].tolist()\n",
    "lista"
   ]
  },
  {
   "cell_type": "code",
   "execution_count": null,
   "metadata": {},
   "outputs": [],
   "source": []
  },
  {
   "cell_type": "code",
   "execution_count": null,
   "metadata": {},
   "outputs": [],
   "source": []
  },
  {
   "cell_type": "code",
   "execution_count": null,
   "metadata": {},
   "outputs": [],
   "source": []
  }
 ],
 "metadata": {
  "kernelspec": {
   "display_name": "Python 3",
   "language": "python",
   "name": "python3"
  },
  "language_info": {
   "codemirror_mode": {
    "name": "ipython",
    "version": 3
   },
   "file_extension": ".py",
   "mimetype": "text/x-python",
   "name": "python",
   "nbconvert_exporter": "python",
   "pygments_lexer": "ipython3",
   "version": "3.8.3"
  }
 },
 "nbformat": 4,
 "nbformat_minor": 2
}
