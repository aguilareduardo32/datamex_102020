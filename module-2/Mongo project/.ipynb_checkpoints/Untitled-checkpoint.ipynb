{
 "cells": [
  {
   "cell_type": "code",
   "execution_count": 1,
   "metadata": {},
   "outputs": [],
   "source": [
    "import pymongo"
   ]
  },
  {
   "cell_type": "code",
   "execution_count": 2,
   "metadata": {},
   "outputs": [
    {
     "name": "stderr",
     "output_type": "stream",
     "text": [
      "<ipython-input-2-cc278c9a9206>:4: DeprecationWarning: collection_names is deprecated. Use list_collection_names instead.\n",
      "  db.collection_names()\n"
     ]
    }
   ],
   "source": [
    "cliente = pymongo.MongoClient()\n",
    "cliente.list_database_names()\n",
    "db = cliente.companies\n",
    "db.collection_names()\n",
    "colec = db.com"
   ]
  },
  {
   "cell_type": "code",
   "execution_count": 37,
   "metadata": {},
   "outputs": [
    {
     "data": {
      "text/plain": [
       "[{'description': '',\n",
       "  'address1': 'Wittelsbacherplatz 2',\n",
       "  'address2': '',\n",
       "  'zip_code': '80333',\n",
       "  'city': 'Munich',\n",
       "  'state_code': None,\n",
       "  'country_code': 'DEU',\n",
       "  'latitude': None,\n",
       "  'longitude': None}]"
      ]
     },
     "metadata": {},
     "output_type": "display_data"
    },
    {
     "data": {
      "text/html": [
       "<div style=\"width:100%;\"><div style=\"position:relative;width:100%;height:0;padding-bottom:60%;\"><span style=\"color:#565656\">Make this Notebook Trusted to load map: File -> Trust Notebook</span><iframe src=\"about:blank\" style=\"position:absolute;width:100%;height:100%;left:0;top:0;border:none !important;\" data-html=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 onload=\"this.contentDocument.open();this.contentDocument.write(atob(this.getAttribute('data-html')));this.contentDocument.close();\" allowfullscreen webkitallowfullscreen mozallowfullscreen></iframe></div></div>"
      ],
      "text/plain": [
       "<folium.folium.Map at 0x127a7c6d0>"
      ]
     },
     "execution_count": 37,
     "metadata": {},
     "output_type": "execute_result"
    }
   ],
   "source": [
    "#list(colec.find())\n",
    "import pandas as pd \n",
    "import numpy as np\n",
    "import folium\n",
    "\n",
    "\n",
    "\n",
    "oficinas = colec.find()\n",
    "\n",
    "df = pd.DataFrame(oficinas)\n",
    "df.columns\n",
    "df1 = df\n",
    "\n",
    "df = df.reset_index()\n",
    "df.loc[df['number_of_employees'].idxmax()]\n",
    "\n",
    "\n",
    "\n",
    "display(df.iloc[5776]['offices'])\n",
    "list(colec.find({'$and':[{\"offices.city\":'Munich'},\n",
    "                            {'offices.zip_code': '80333'}]},{'name':1}))\n",
    "m = folium.Map(location=[48.143954756384524, 11.575684547424318], tiles='stamentoner', zoom_start=15)\n",
    "lat_siemenz= '48.143954756384524'\n",
    "lon_siemenz = '11.575684547424318'\n",
    "zeblat = '48.1365635'\n",
    "zeblon = '11.5886703'\n",
    "Brien_lat = '48.1469267'\n",
    "Brien_lon = '11.560622'\n",
    "IDEO_lat= '48.130541'\n",
    "IDEO_lon = '11.5952663'\n",
    "\n",
    "empresas_names = ['Siemens', 'MegaZebra', 'IDEO']\n",
    "empresas_lat = ['48.143954756384524', '48.1365635', '48.130541']\n",
    "empresas_lon = ['11.575684547424318','11.5886703','11.5952663']\n",
    "### pon las otras dos empresas \n",
    "lat_tacos = ['48.1503616','48.1427', '48.1332057']\n",
    "lon_tacos = ['11.5783252', '11.5552', '11.5836412']\n",
    "#folium.Marker([lat, lon],icon=folium.Icon(color='red'), popup='<i>Siemens</i>', tooltip='Siemens').add_to(m)\n",
    "#folium.Marker([zeblat, zeblon], icon=folium.Icon(color='red'), popup='<i>Megazebra</i>', tooltip='Megazebra').add_to(m)\n",
    "for i in range(len(lat_tacos)):\n",
    "    folium.Marker([lat_tacos[i], lon_tacos[i]], icon=folium.Icon(color='blue'),popup = '<b>Aqui hay una taqueria</b>', tooltip = 'taqueria').add_to(m)\n",
    "for i in range(len(empresas_names)) :\n",
    "    folium.Marker([empresas_lat[i], empresas_lon[i]], icon= folium.Icon(color='red'), popup = f'<b>{empresas_names[i]}</b>', tooltip = f'{empresas_names[i]}').add_to(m)\n",
    "m"
   ]
  },
  {
   "cell_type": "code",
   "execution_count": 38,
   "metadata": {},
   "outputs": [
    {
     "data": {
      "text/plain": [
       "Index(['index', '_id', 'name', 'permalink', 'crunchbase_url', 'homepage_url',\n",
       "       'blog_url', 'blog_feed_url', 'twitter_username', 'category_code',\n",
       "       'number_of_employees', 'founded_year', 'founded_month', 'founded_day',\n",
       "       'deadpooled_year', 'tag_list', 'alias_list', 'email_address',\n",
       "       'phone_number', 'description', 'created_at', 'updated_at', 'overview',\n",
       "       'image', 'products', 'relationships', 'competitions', 'providerships',\n",
       "       'total_money_raised', 'funding_rounds', 'investments', 'acquisition',\n",
       "       'acquisitions', 'offices', 'milestones', 'video_embeds', 'screenshots',\n",
       "       'external_links', 'partners', 'deadpooled_month', 'deadpooled_day',\n",
       "       'deadpooled_url', 'ipo'],\n",
       "      dtype='object')"
      ]
     },
     "execution_count": 38,
     "metadata": {},
     "output_type": "execute_result"
    }
   ],
   "source": [
    "df.columns\n",
    "\n",
    "\n",
    "## relacion entre precio actual con total money raised, funding rounds ipo and today price (esa la debes buscar tu )"
   ]
  },
  {
   "cell_type": "code",
   "execution_count": 35,
   "metadata": {},
   "outputs": [
    {
     "data": {
      "image/png": "[encoded data removed]",
      "text/plain": [
       "<Figure size 432x288 with 1 Axes>"
      ]
     },
     "metadata": {
      "needs_background": "light"
     },
     "output_type": "display_data"
    }
   ],
   "source": [
    "\n",
    "\n",
    "list(colec.find({'$and':[{\"offices.city\":'Munich'},\n",
    "                            {'name': 'Siemens' }]},{'name':1, 'number_of_employees' :1}))\n",
    "##405000 Siemens employees\n",
    "\n",
    "list(colec.find({'$and':[{\"offices.city\":'Munich'},\n",
    "                            {'name': 'MegaZebra' }]},{'name':1, 'number_of_employees' :1}))\n",
    "\n",
    "### MEGAZEBRA number of employees NAN\n",
    "\n",
    "list(colec.find({'$and':[{\"offices.city\":'Munich'},\n",
    "                            {'name': 'IDEO' }]},{'name':1, 'number_of_employees' :1}))\n",
    "\n",
    "##IDEO number of employees 500\n",
    "\n",
    "\n",
    "data = [['Siemens', 405000], ['IDEO', 500]]\n",
    "\n",
    "#DF = pd.DataFrame(data, columns = ['Name', 'Number of employees'])\n",
    "#ax = DF.plot.bar(rot = 0)\n",
    "\n",
    "\n",
    "DF = pd.DataFrame({'names': ['Siemens', 'IDEO'], 'Number of employees': [405000, 500]})\n",
    "ax = DF.plot.bar(x = 'names', y = 'Number of employees', rot = 0)\n",
    "\n",
    "\n",
    "## por lo visto lo mejor es ponerla cerca de Siemens "
   ]
  },
  {
   "cell_type": "code",
   "execution_count": 13,
   "metadata": {},
   "outputs": [
    {
     "data": {
      "text/plain": [
       "[{'_id': ObjectId('52cdef7c4bab8bd675297da8'),\n",
       "  'name': 'OpenX',\n",
       "  'number_of_employees': 305},\n",
       " {'_id': ObjectId('52cdef7c4bab8bd675297f3c'),\n",
       "  'name': 'Adknowledge',\n",
       "  'number_of_employees': 300},\n",
       " {'_id': ObjectId('52cdef7c4bab8bd675298060'),\n",
       "  'name': 'tyntec',\n",
       "  'number_of_employees': 150},\n",
       " {'_id': ObjectId('52cdef7c4bab8bd6752982c2'),\n",
       "  'name': 'amiando',\n",
       "  'number_of_employees': 76},\n",
       " {'_id': ObjectId('52cdef7c4bab8bd6752984b4'),\n",
       "  'name': 'Moconso',\n",
       "  'number_of_employees': nan},\n",
       " {'_id': ObjectId('52cdef7c4bab8bd6752984c9'),\n",
       "  'name': 'Topicle',\n",
       "  'number_of_employees': 2},\n",
       " {'_id': ObjectId('52cdef7c4bab8bd6752985fc'),\n",
       "  'name': 'iCrossing',\n",
       "  'number_of_employees': 550},\n",
       " {'_id': ObjectId('52cdef7c4bab8bd6752986b5'),\n",
       "  'name': 'Zankapfel',\n",
       "  'number_of_employees': 2},\n",
       " {'_id': ObjectId('52cdef7c4bab8bd675298753'),\n",
       "  'name': 'andUNITE',\n",
       "  'number_of_employees': nan},\n",
       " {'_id': ObjectId('52cdef7c4bab8bd67529878b'),\n",
       "  'name': 'Gofresh',\n",
       "  'number_of_employees': nan},\n",
       " {'_id': ObjectId('52cdef7d4bab8bd675298a6a'),\n",
       "  'name': 'Refined Labs',\n",
       "  'number_of_employees': 16},\n",
       " {'_id': ObjectId('52cdef7d4bab8bd675298a96'),\n",
       "  'name': 'Hobnox',\n",
       "  'number_of_employees': nan},\n",
       " {'_id': ObjectId('52cdef7d4bab8bd675298c64'),\n",
       "  'name': 'NOTXOR',\n",
       "  'number_of_employees': nan},\n",
       " {'_id': ObjectId('52cdef7d4bab8bd675298c9b'),\n",
       "  'name': 'bendecho',\n",
       "  'number_of_employees': nan},\n",
       " {'_id': ObjectId('52cdef7d4bab8bd675298d1a'),\n",
       "  'name': 'Betaface',\n",
       "  'number_of_employees': nan},\n",
       " {'_id': ObjectId('52cdef7d4bab8bd675298d66'),\n",
       "  'name': 'be2',\n",
       "  'number_of_employees': 2},\n",
       " {'_id': ObjectId('52cdef7d4bab8bd675298f20'),\n",
       "  'name': 'Aloqa',\n",
       "  'number_of_employees': 14},\n",
       " {'_id': ObjectId('52cdef7d4bab8bd675299034'),\n",
       "  'name': 'Red Hat',\n",
       "  'number_of_employees': nan},\n",
       " {'_id': ObjectId('52cdef7d4bab8bd67529911b'),\n",
       "  'name': 'IDEO',\n",
       "  'number_of_employees': 500},\n",
       " {'_id': ObjectId('52cdef7d4bab8bd67529919d'),\n",
       "  'name': 'AdScale',\n",
       "  'number_of_employees': 40},\n",
       " {'_id': ObjectId('52cdef7d4bab8bd675299250'),\n",
       "  'name': 'Kazzong',\n",
       "  'number_of_employees': 8},\n",
       " {'_id': ObjectId('52cdef7d4bab8bd67529941a'),\n",
       "  'name': 'Siemens',\n",
       "  'number_of_employees': 405000},\n",
       " {'_id': ObjectId('52cdef7d4bab8bd67529976d'),\n",
       "  'name': 'Ciao',\n",
       "  'number_of_employees': nan},\n",
       " {'_id': ObjectId('52cdef7d4bab8bd675299787'),\n",
       "  'name': 'Moozey',\n",
       "  'number_of_employees': nan},\n",
       " {'_id': ObjectId('52cdef7d4bab8bd675299af7'),\n",
       "  'name': 'Ciao',\n",
       "  'number_of_employees': nan},\n",
       " {'_id': ObjectId('52cdef7d4bab8bd675299b11'),\n",
       "  'name': 'Moozey',\n",
       "  'number_of_employees': nan},\n",
       " {'_id': ObjectId('52cdef7d4bab8bd675299d9f'),\n",
       "  'name': 'metaio',\n",
       "  'number_of_employees': 65},\n",
       " {'_id': ObjectId('52cdef7d4bab8bd67529a0e6'),\n",
       "  'name': 'BookRix',\n",
       "  'number_of_employees': nan},\n",
       " {'_id': ObjectId('52cdef7d4bab8bd67529a257'),\n",
       "  'name': 'United Maps',\n",
       "  'number_of_employees': 13},\n",
       " {'_id': ObjectId('52cdef7e4bab8bd67529a4ab'),\n",
       "  'name': 'net-m',\n",
       "  'number_of_employees': 260},\n",
       " {'_id': ObjectId('52cdef7e4bab8bd67529a940'),\n",
       "  'name': 'Conject',\n",
       "  'number_of_employees': nan},\n",
       " {'_id': ObjectId('52cdef7e4bab8bd67529a9cd'),\n",
       "  'name': 'Jentro Technologies',\n",
       "  'number_of_employees': nan},\n",
       " {'_id': ObjectId('52cdef7e4bab8bd67529ac6e'),\n",
       "  'name': 'Intalio',\n",
       "  'number_of_employees': 140},\n",
       " {'_id': ObjectId('52cdef7e4bab8bd67529ad40'),\n",
       "  'name': 'FutureScape International',\n",
       "  'number_of_employees': nan},\n",
       " {'_id': ObjectId('52cdef7e4bab8bd67529ae53'),\n",
       "  'name': 'Digital Bloom',\n",
       "  'number_of_employees': 5},\n",
       " {'_id': ObjectId('52cdef7e4bab8bd67529b130'),\n",
       "  'name': 'MegaZebra',\n",
       "  'number_of_employees': nan},\n",
       " {'_id': ObjectId('52cdef7e4bab8bd67529b20a'),\n",
       "  'name': 'SocialCom',\n",
       "  'number_of_employees': 5},\n",
       " {'_id': ObjectId('52cdef7e4bab8bd67529b369'),\n",
       "  'name': 'Knorr-Bremse AG',\n",
       "  'number_of_employees': nan},\n",
       " {'_id': ObjectId('52cdef7e4bab8bd67529b372'),\n",
       "  'name': 'Bumblehood',\n",
       "  'number_of_employees': 17},\n",
       " {'_id': ObjectId('52cdef7e4bab8bd67529b5e1'),\n",
       "  'name': 'GlassHouse Technologies',\n",
       "  'number_of_employees': nan},\n",
       " {'_id': ObjectId('52cdef7e4bab8bd67529b8a6'),\n",
       "  'name': 'Scoreloop',\n",
       "  'number_of_employees': nan},\n",
       " {'_id': ObjectId('52cdef7e4bab8bd67529b9e2'),\n",
       "  'name': 'DataCore Software',\n",
       "  'number_of_employees': nan},\n",
       " {'_id': ObjectId('52cdef7e4bab8bd67529baeb'),\n",
       "  'name': 'kontoblick',\n",
       "  'number_of_employees': 10},\n",
       " {'_id': ObjectId('52cdef7e4bab8bd67529bc6a'),\n",
       "  'name': 'ViCommerce',\n",
       "  'number_of_employees': nan},\n",
       " {'_id': ObjectId('52cdef7e4bab8bd67529bca0'),\n",
       "  'name': 'baimos technologies',\n",
       "  'number_of_employees': nan},\n",
       " {'_id': ObjectId('52cdef7f4bab8bd67529bdbb'),\n",
       "  'name': 'IntraWorlds',\n",
       "  'number_of_employees': 40},\n",
       " {'_id': ObjectId('52cdef7f4bab8bd67529bedb'),\n",
       "  'name': 'P21',\n",
       "  'number_of_employees': nan},\n",
       " {'_id': ObjectId('52cdef7f4bab8bd67529bf78'),\n",
       "  'name': 'GRIN Publishing',\n",
       "  'number_of_employees': 55},\n",
       " {'_id': ObjectId('52cdef7f4bab8bd67529bfb5'),\n",
       "  'name': 'BOKU',\n",
       "  'number_of_employees': nan},\n",
       " {'_id': ObjectId('52cdef7f4bab8bd67529c4c0'),\n",
       "  'name': 'AdLINK Group',\n",
       "  'number_of_employees': nan}]"
      ]
     },
     "execution_count": 13,
     "metadata": {},
     "output_type": "execute_result"
    }
   ],
   "source": [
    "list(colec.find({\"offices.city\":'Munich'},{'name':1, 'number_of_employees' : 1}))\n",
    "\n",
    "#list(colec.find({'$and':[{'number_of_employees': {'$gte': 500}},\n",
    " #                           {'offices.city':'Munich'}]}, \n",
    " #              {'name':1}))"
   ]
  },
  {
   "cell_type": "code",
   "execution_count": null,
   "metadata": {},
   "outputs": [],
   "source": []
  },
  {
   "cell_type": "code",
   "execution_count": 179,
   "metadata": {},
   "outputs": [
    {
     "ename": "TypeError",
     "evalue": "'float' object is not subscriptable",
     "output_type": "error",
     "traceback": [
      "\u001b[0;31m---------------------------------------------------------------------------\u001b[0m",
      "\u001b[0;31mTypeError\u001b[0m                                 Traceback (most recent call last)",
      "\u001b[0;32m<ipython-input-179-c2b80974bc95>\u001b[0m in \u001b[0;36m<module>\u001b[0;34m\u001b[0m\n\u001b[1;32m     20\u001b[0m \u001b[0;34m\u001b[0m\u001b[0m\n\u001b[1;32m     21\u001b[0m \u001b[0md\u001b[0m \u001b[0;34m=\u001b[0m \u001b[0mdf3\u001b[0m\u001b[0;34m.\u001b[0m\u001b[0mgroupby\u001b[0m\u001b[0;34m(\u001b[0m\u001b[0;34m[\u001b[0m\u001b[0;34m'city'\u001b[0m\u001b[0;34m]\u001b[0m\u001b[0;34m)\u001b[0m\u001b[0;34m[\u001b[0m\u001b[0;34m'number_of_employees'\u001b[0m\u001b[0;34m]\u001b[0m\u001b[0;34m.\u001b[0m\u001b[0magg\u001b[0m\u001b[0;34m(\u001b[0m\u001b[0;34m'sum'\u001b[0m\u001b[0;34m)\u001b[0m\u001b[0;34m.\u001b[0m\u001b[0mmax\u001b[0m\u001b[0;34m(\u001b[0m\u001b[0;34m)\u001b[0m\u001b[0;34m\u001b[0m\u001b[0;34m\u001b[0m\u001b[0m\n\u001b[0;32m---> 22\u001b[0;31m \u001b[0md\u001b[0m\u001b[0;34m[\u001b[0m\u001b[0;34m'city'\u001b[0m\u001b[0;34m]\u001b[0m\u001b[0;34m\u001b[0m\u001b[0;34m\u001b[0m\u001b[0m\n\u001b[0m\u001b[1;32m     23\u001b[0m \u001b[0;31m#66777 es el numero mas grande de empleados\u001b[0m\u001b[0;34m\u001b[0m\u001b[0;34m\u001b[0m\u001b[0;34m\u001b[0m\u001b[0m\n\u001b[1;32m     24\u001b[0m \u001b[0;31m#d.idxmax()\u001b[0m\u001b[0;34m\u001b[0m\u001b[0;34m\u001b[0m\u001b[0;34m\u001b[0m\u001b[0m\n",
      "\u001b[0;31mTypeError\u001b[0m: 'float' object is not subscriptable"
     ]
    }
   ],
   "source": [
    "#df['City'] = pd.DataFrame([x for x in df['offices']])['country_code'] no reconoce la columna dentro del diccionario \n",
    "\n",
    "#df1 = pd.DataFrame(MyList, columns=[\"x\"]).groupby('x').size().to_dict() sirve para hacer df la lista que obtengas\n",
    "\n",
    "#cities = [d.get('city') for d in df.dic] Dataframe has not atribute dic\n",
    "\n",
    "\n",
    "dx=df1.set_index(['name']).offices.apply(pd.Series).stack().index\n",
    "\n",
    "df2 =pd.DataFrame(df1.set_index(['name']).offices.apply(pd.Series).stack().values.tolist()).reset_index()\n",
    "\n",
    "df2.head(10)\n",
    "###juntalos por ciudad en el dataframe\n",
    "\n",
    "df2['city'].value_counts()\n",
    "##San francisco the city with more companies in this df\n",
    "\n",
    "df3 = pd.concat([df1, df2], axis = 1)\n",
    "\n",
    "\n",
    "d = df3.groupby(['city'])['number_of_employees'].agg('sum').max()\n",
    "d['city']\n",
    "#66777 es el numero mas grande de empleados \n",
    "#d.idxmax()\n",
    "#New york\n",
    "#print (d[(d == 'San francisco').all()])\n",
    "\n",
    "\n",
    "###lo que te falta esta en notas \n",
    "poner las otras dos locaciones de empresas ya tienes lat y long\n",
    "hacer una grafica del numero de empelados de cada una\n",
    "haces los labs e intentas otra vez sacar la ciudad con mas empleados "
   ]
  },
  {
   "cell_type": "code",
   "execution_count": null,
   "metadata": {},
   "outputs": [],
   "source": []
  }
 ],
 "metadata": {
  "kernelspec": {
   "display_name": "Python 3",
   "language": "python",
   "name": "python3"
  },
  "language_info": {
   "codemirror_mode": {
    "name": "ipython",
    "version": 3
   },
   "file_extension": ".py",
   "mimetype": "text/x-python",
   "name": "python",
   "nbconvert_exporter": "python",
   "pygments_lexer": "ipython3",
   "version": "3.8.3"
  }
 },
 "nbformat": 4,
 "nbformat_minor": 4
}
